{
 "cells": [
  {
   "cell_type": "markdown",
   "metadata": {},
   "source": [
    "# WeatherPy\n",
    "----\n",
    "\n",
    "#### Note\n",
    "* Instructions have been included for each segment. You do not have to follow them exactly, but they are included to help you think through the steps."
   ]
  },
  {
   "cell_type": "code",
   "execution_count": 1,
   "metadata": {
    "scrolled": true
   },
   "outputs": [],
   "source": [
    "# Dependencies and Setup\n",
    "import matplotlib.pyplot as plt\n",
    "import pandas as pd\n",
    "import numpy as np\n",
    "import requests\n",
    "from datetime import date\n",
    "from scipy.stats import linregress\n",
    "\n",
    "# Import API key\n",
    "from api_keys import weather_api_key\n",
    "\n",
    "# Incorporated citipy to determine city based on latitude and longitude\n",
    "from citipy import citipy\n",
    "\n",
    "# Output File (CSV)\n",
    "output_data_file = \"output_data/cities.csv\"\n",
    "\n",
    "# Range of latitudes and longitudes\n",
    "lat_range = (-90, 90)\n",
    "lng_range = (-180, 180)\n",
    "\n",
    "from pprint import pprint"
   ]
  },
  {
   "cell_type": "markdown",
   "metadata": {},
   "source": [
    "## Generate Cities List"
   ]
  },
  {
   "cell_type": "code",
   "execution_count": 2,
   "metadata": {},
   "outputs": [
    {
     "data": {
      "text/plain": [
       "627"
      ]
     },
     "execution_count": 2,
     "metadata": {},
     "output_type": "execute_result"
    }
   ],
   "source": [
    "# List for holding lat_lngs and cities\n",
    "lat_lngs = []\n",
    "cities = []\n",
    "\n",
    "# Create a set of random lat and lng combinations\n",
    "lats = np.random.uniform(low=-90.000, high=90.000, size=1500)\n",
    "lngs = np.random.uniform(low=-180.000, high=180.000, size=1500)\n",
    "lat_lngs = zip(lats, lngs)\n",
    "\n",
    "# Identify nearest city for each lat, lng combination\n",
    "for lat_lng in lat_lngs:\n",
    "    city = citipy.nearest_city(lat_lng[0], lat_lng[1]).city_name\n",
    "    \n",
    "    # If the city is unique, then add it to a our cities list\n",
    "    if city not in cities:\n",
    "        cities.append(city)\n",
    "\n",
    "# Print the city count to confirm sufficient count\n",
    "len(cities)"
   ]
  },
  {
   "cell_type": "markdown",
   "metadata": {},
   "source": [
    "### Perform API Calls\n",
    "* Perform a weather check on each city using a series of successive API calls.\n",
    "* Include a print log of each city as it'sbeing processed (with the city number and city name).\n"
   ]
  },
  {
   "cell_type": "code",
   "execution_count": 3,
   "metadata": {},
   "outputs": [
    {
     "name": "stdout",
     "output_type": "stream",
     "text": [
      "Beginning Data Retrieval\n",
      "-----------------------------\n",
      "Processing Record 1 of Set 0 | hermanus\n",
      "Processing Record 2 of Set 0 | port alfred\n",
      "Processing Record 3 of Set 0 | olafsvik\n",
      "Processing Record 4 of Set 0 | berlevag\n",
      "Processing Record 5 of Set 0 | barrow\n",
      "Processing Record 6 of Set 0 | yellowknife\n",
      "Processing Record 7 of Set 0 | euclides da cunha\n",
      "City not found. Skipping...\n",
      "Processing Record 8 of Set 0 | busselton\n",
      "Processing Record 9 of Set 0 | karimganj\n",
      "Processing Record 10 of Set 0 | thinadhoo\n",
      "Processing Record 11 of Set 0 | cape town\n",
      "Processing Record 12 of Set 0 | kyaikkami\n",
      "Processing Record 13 of Set 0 | ushuaia\n",
      "Processing Record 14 of Set 0 | hilo\n",
      "Processing Record 15 of Set 0 | mataura\n",
      "Processing Record 16 of Set 0 | srandakan\n",
      "Processing Record 17 of Set 0 | dikson\n",
      "Processing Record 18 of Set 0 | korem\n",
      "Processing Record 19 of Set 0 | bredasdorp\n",
      "Processing Record 20 of Set 0 | puerto ayora\n",
      "Processing Record 21 of Set 0 | namibe\n",
      "City not found. Skipping...\n",
      "Processing Record 22 of Set 0 | ampanihy\n",
      "Processing Record 23 of Set 0 | vaini\n",
      "Processing Record 24 of Set 0 | hervey bay\n",
      "Processing Record 25 of Set 0 | richards bay\n",
      "Processing Record 26 of Set 0 | diego de almagro\n",
      "Processing Record 27 of Set 0 | saskylakh\n",
      "Processing Record 28 of Set 0 | jining\n",
      "Processing Record 29 of Set 0 | carutapera\n",
      "Processing Record 30 of Set 0 | saint george\n",
      "Processing Record 31 of Set 0 | maniitsoq\n",
      "Processing Record 32 of Set 0 | dingle\n",
      "Processing Record 33 of Set 0 | suluq\n",
      "Processing Record 34 of Set 0 | atuona\n",
      "Processing Record 35 of Set 0 | qaanaaq\n",
      "Processing Record 36 of Set 0 | joigny\n",
      "Processing Record 37 of Set 0 | chuy\n",
      "Processing Record 38 of Set 0 | poum\n",
      "Processing Record 39 of Set 0 | umm lajj\n",
      "Processing Record 40 of Set 0 | kapaa\n",
      "Processing Record 41 of Set 0 | bata\n",
      "Processing Record 42 of Set 0 | velyka lepetykha\n",
      "Processing Record 43 of Set 0 | chokurdakh\n",
      "Processing Record 44 of Set 0 | jamestown\n",
      "Processing Record 45 of Set 0 | upernavik\n",
      "Processing Record 46 of Set 0 | nadym\n",
      "Processing Record 47 of Set 0 | alugan\n",
      "City not found. Skipping...\n",
      "Processing Record 48 of Set 0 | aklavik\n",
      "Processing Record 49 of Set 0 | bakchar\n",
      "Processing Record 1 of Set 1 | brae\n",
      "Processing Record 2 of Set 1 | butaritari\n",
      "Processing Record 3 of Set 1 | burlatskoye\n",
      "Processing Record 4 of Set 1 | hithadhoo\n",
      "Processing Record 5 of Set 1 | cabo rojo\n",
      "Processing Record 6 of Set 1 | ribeira grande\n",
      "Processing Record 7 of Set 1 | gaoual\n",
      "City not found. Skipping...\n",
      "Processing Record 8 of Set 1 | nikolskoye\n",
      "Processing Record 9 of Set 1 | lata\n",
      "Processing Record 10 of Set 1 | auki\n",
      "Processing Record 11 of Set 1 | leningradskiy\n",
      "Processing Record 12 of Set 1 | ucluelet\n",
      "Processing Record 13 of Set 1 | tosya\n",
      "Processing Record 14 of Set 1 | moose factory\n",
      "Processing Record 15 of Set 1 | podgorica\n",
      "Processing Record 16 of Set 1 | palmer\n",
      "Processing Record 17 of Set 1 | faanui\n",
      "Processing Record 18 of Set 1 | mar del plata\n",
      "Processing Record 19 of Set 1 | arraial do cabo\n",
      "Processing Record 20 of Set 1 | hami\n",
      "Processing Record 21 of Set 1 | talaga\n",
      "Processing Record 22 of Set 1 | port hardy\n",
      "Processing Record 23 of Set 1 | mackay\n",
      "Processing Record 24 of Set 1 | leonidovo\n",
      "Processing Record 25 of Set 1 | hay river\n",
      "Processing Record 26 of Set 1 | bluff\n",
      "Processing Record 27 of Set 1 | oktyabrskoye\n",
      "Processing Record 28 of Set 1 | rikitea\n",
      "Processing Record 29 of Set 1 | ondangwa\n",
      "City not found. Skipping...\n",
      "City not found. Skipping...\n",
      "Processing Record 30 of Set 1 | aksarka\n",
      "Processing Record 31 of Set 1 | rio gallegos\n",
      "Processing Record 32 of Set 1 | bar harbor\n",
      "Processing Record 33 of Set 1 | fairbanks\n",
      "Processing Record 34 of Set 1 | tiksi\n",
      "Processing Record 35 of Set 1 | yerbogachen\n",
      "Processing Record 36 of Set 1 | adrar\n",
      "Processing Record 37 of Set 1 | hobart\n",
      "Processing Record 38 of Set 1 | samana\n",
      "Processing Record 39 of Set 1 | kaspiyskiy\n",
      "Processing Record 40 of Set 1 | mount isa\n",
      "City not found. Skipping...\n",
      "Processing Record 41 of Set 1 | bonthe\n",
      "Processing Record 42 of Set 1 | ponta do sol\n",
      "City not found. Skipping...\n",
      "Processing Record 43 of Set 1 | punta arenas\n",
      "Processing Record 44 of Set 1 | liku\n",
      "Processing Record 45 of Set 1 | namatanai\n",
      "Processing Record 46 of Set 1 | kolokani\n",
      "Processing Record 47 of Set 1 | anadyr\n",
      "Processing Record 48 of Set 1 | new norfolk\n",
      "Processing Record 49 of Set 1 | san quintin\n",
      "Processing Record 1 of Set 2 | kazerun\n",
      "Processing Record 2 of Set 2 | hovd\n",
      "Processing Record 3 of Set 2 | maceio\n",
      "Processing Record 4 of Set 2 | rakaia\n",
      "Processing Record 5 of Set 2 | aksu\n",
      "Processing Record 6 of Set 2 | elk city\n",
      "Processing Record 7 of Set 2 | tasiilaq\n",
      "Processing Record 8 of Set 2 | metro\n",
      "Processing Record 9 of Set 2 | meulaboh\n",
      "Processing Record 10 of Set 2 | parsabad\n",
      "Processing Record 11 of Set 2 | sisimiut\n",
      "Processing Record 12 of Set 2 | kailua\n",
      "Processing Record 13 of Set 2 | havoysund\n",
      "Processing Record 14 of Set 2 | husavik\n",
      "Processing Record 15 of Set 2 | georgetown\n",
      "Processing Record 16 of Set 2 | iqaluit\n",
      "Processing Record 17 of Set 2 | port lincoln\n",
      "Processing Record 18 of Set 2 | nazare\n",
      "Processing Record 19 of Set 2 | milkovo\n",
      "Processing Record 20 of Set 2 | souillac\n",
      "Processing Record 21 of Set 2 | maningrida\n",
      "Processing Record 22 of Set 2 | buala\n",
      "Processing Record 23 of Set 2 | ayagoz\n",
      "City not found. Skipping...\n",
      "Processing Record 24 of Set 2 | albany\n",
      "Processing Record 25 of Set 2 | llanes\n",
      "Processing Record 26 of Set 2 | saint-philippe\n",
      "Processing Record 27 of Set 2 | tuktoyaktuk\n",
      "Processing Record 28 of Set 2 | coquimbo\n",
      "Processing Record 29 of Set 2 | east london\n",
      "Processing Record 30 of Set 2 | klaksvik\n",
      "City not found. Skipping...\n",
      "Processing Record 31 of Set 2 | isangel\n",
      "Processing Record 32 of Set 2 | palu\n",
      "Processing Record 33 of Set 2 | nabire\n",
      "Processing Record 34 of Set 2 | cherskiy\n",
      "Processing Record 35 of Set 2 | somerset\n",
      "Processing Record 36 of Set 2 | laguna\n",
      "Processing Record 37 of Set 2 | high level\n",
      "Processing Record 38 of Set 2 | mendi\n",
      "City not found. Skipping...\n",
      "City not found. Skipping...\n",
      "Processing Record 39 of Set 2 | dwarahat\n",
      "Processing Record 40 of Set 2 | boguchany\n",
      "Processing Record 41 of Set 2 | cumana\n",
      "Processing Record 42 of Set 2 | rincon\n",
      "Processing Record 43 of Set 2 | vakhrushi\n",
      "Processing Record 44 of Set 2 | festus\n",
      "Processing Record 45 of Set 2 | evensk\n",
      "Processing Record 46 of Set 2 | mareeba\n",
      "Processing Record 47 of Set 2 | naze\n",
      "Processing Record 48 of Set 2 | rawson\n",
      "Processing Record 49 of Set 2 | gat\n",
      "Processing Record 1 of Set 3 | piacabucu\n",
      "Processing Record 2 of Set 3 | victoria\n",
      "Processing Record 3 of Set 3 | muscatine\n",
      "Processing Record 4 of Set 3 | vereshchagino\n",
      "Processing Record 5 of Set 3 | yar-sale\n",
      "Processing Record 6 of Set 3 | san cristobal\n",
      "Processing Record 7 of Set 3 | ozu\n",
      "Processing Record 8 of Set 3 | martinsburg\n",
      "Processing Record 9 of Set 3 | fortuna\n",
      "Processing Record 10 of Set 3 | vao\n",
      "City not found. Skipping...\n",
      "Processing Record 11 of Set 3 | byron bay\n",
      "Processing Record 12 of Set 3 | thompson\n",
      "Processing Record 13 of Set 3 | spirit river\n",
      "Processing Record 14 of Set 3 | lashio\n",
      "Processing Record 15 of Set 3 | ilheus\n",
      "Processing Record 16 of Set 3 | waipawa\n",
      "Processing Record 17 of Set 3 | inuvik\n",
      "Processing Record 18 of Set 3 | la ronge\n",
      "Processing Record 19 of Set 3 | ouro preto do oeste\n",
      "Processing Record 20 of Set 3 | dabat\n",
      "Processing Record 21 of Set 3 | biltine\n",
      "Processing Record 22 of Set 3 | sitka\n",
      "Processing Record 23 of Set 3 | pozo colorado\n",
      "City not found. Skipping...\n",
      "Processing Record 24 of Set 3 | plettenberg bay\n",
      "Processing Record 25 of Set 3 | mogadishu\n",
      "Processing Record 26 of Set 3 | daru\n",
      "Processing Record 27 of Set 3 | portland\n",
      "Processing Record 28 of Set 3 | beringovskiy\n",
      "Processing Record 29 of Set 3 | grindavik\n",
      "Processing Record 30 of Set 3 | bridlington\n",
      "Processing Record 31 of Set 3 | katherine\n",
      "Processing Record 32 of Set 3 | erbaa\n",
      "Processing Record 33 of Set 3 | paris\n",
      "Processing Record 34 of Set 3 | englewood\n",
      "Processing Record 35 of Set 3 | luderitz\n",
      "City not found. Skipping...\n",
      "Processing Record 36 of Set 3 | bardiyah\n",
      "Processing Record 37 of Set 3 | lebu\n",
      "Processing Record 38 of Set 3 | kununurra\n",
      "Processing Record 39 of Set 3 | fuyu\n",
      "Processing Record 40 of Set 3 | haines junction\n",
      "Processing Record 41 of Set 3 | azul\n",
      "Processing Record 42 of Set 3 | shingu\n"
     ]
    },
    {
     "name": "stdout",
     "output_type": "stream",
     "text": [
      "Processing Record 43 of Set 3 | gagnoa\n",
      "Processing Record 44 of Set 3 | quatre cocos\n",
      "Processing Record 45 of Set 3 | port elizabeth\n",
      "Processing Record 46 of Set 3 | castro\n",
      "Processing Record 47 of Set 3 | belyy yar\n",
      "Processing Record 48 of Set 3 | wonthaggi\n",
      "Processing Record 49 of Set 3 | ostersund\n",
      "Processing Record 1 of Set 4 | kjollefjord\n",
      "Processing Record 2 of Set 4 | goderich\n",
      "Processing Record 3 of Set 4 | tabas\n",
      "Processing Record 4 of Set 4 | veraval\n",
      "Processing Record 5 of Set 4 | pontal do parana\n",
      "Processing Record 6 of Set 4 | avarua\n",
      "Processing Record 7 of Set 4 | provideniya\n",
      "City not found. Skipping...\n",
      "Processing Record 8 of Set 4 | sal rei\n",
      "Processing Record 9 of Set 4 | esperance\n",
      "Processing Record 10 of Set 4 | hualmay\n",
      "Processing Record 11 of Set 4 | constitucion\n",
      "Processing Record 12 of Set 4 | sambava\n",
      "City not found. Skipping...\n",
      "City not found. Skipping...\n",
      "Processing Record 13 of Set 4 | marsh harbour\n",
      "Processing Record 14 of Set 4 | araouane\n",
      "Processing Record 15 of Set 4 | vesoul\n",
      "Processing Record 16 of Set 4 | mahebourg\n",
      "Processing Record 17 of Set 4 | longyearbyen\n",
      "Processing Record 18 of Set 4 | hasaki\n",
      "Processing Record 19 of Set 4 | dapitan\n",
      "Processing Record 20 of Set 4 | izhma\n",
      "Processing Record 21 of Set 4 | rudnogorsk\n",
      "Processing Record 22 of Set 4 | ostrovnoy\n",
      "Processing Record 23 of Set 4 | luorong\n",
      "Processing Record 24 of Set 4 | qui nhon\n",
      "Processing Record 25 of Set 4 | sankt georgen\n",
      "City not found. Skipping...\n",
      "Processing Record 26 of Set 4 | bambous virieux\n",
      "Processing Record 27 of Set 4 | buraydah\n",
      "Processing Record 28 of Set 4 | faya\n",
      "Processing Record 29 of Set 4 | bethel\n",
      "Processing Record 30 of Set 4 | labuhan\n",
      "Processing Record 31 of Set 4 | westport\n",
      "Processing Record 32 of Set 4 | galle\n",
      "Processing Record 33 of Set 4 | saint-joseph\n",
      "Processing Record 34 of Set 4 | carnarvon\n",
      "Processing Record 35 of Set 4 | kodiak\n",
      "Processing Record 36 of Set 4 | ust-kuyga\n",
      "Processing Record 37 of Set 4 | kargopol\n",
      "Processing Record 38 of Set 4 | asyut\n",
      "City not found. Skipping...\n",
      "Processing Record 39 of Set 4 | port augusta\n",
      "Processing Record 40 of Set 4 | dandong\n",
      "Processing Record 41 of Set 4 | zhigansk\n",
      "Processing Record 42 of Set 4 | martapura\n",
      "Processing Record 43 of Set 4 | lagoa\n",
      "Processing Record 44 of Set 4 | monterey\n",
      "Processing Record 45 of Set 4 | azare\n",
      "City not found. Skipping...\n",
      "Processing Record 46 of Set 4 | sorland\n",
      "Processing Record 47 of Set 4 | wamba\n",
      "Processing Record 48 of Set 4 | jalor\n",
      "Processing Record 49 of Set 4 | henties bay\n",
      "Processing Record 1 of Set 5 | bonfim\n",
      "Processing Record 2 of Set 5 | sao geraldo do araguaia\n",
      "Processing Record 3 of Set 5 | dunedin\n",
      "Processing Record 4 of Set 5 | torbay\n",
      "Processing Record 5 of Set 5 | tateyama\n",
      "Processing Record 6 of Set 5 | high prairie\n",
      "Processing Record 7 of Set 5 | khatanga\n",
      "Processing Record 8 of Set 5 | dudinka\n",
      "Processing Record 9 of Set 5 | lerwick\n",
      "Processing Record 10 of Set 5 | san patricio\n",
      "Processing Record 11 of Set 5 | talnakh\n",
      "Processing Record 12 of Set 5 | timmins\n",
      "Processing Record 13 of Set 5 | banda aceh\n",
      "Processing Record 14 of Set 5 | korla\n",
      "Processing Record 15 of Set 5 | lensk\n",
      "Processing Record 16 of Set 5 | synya\n",
      "Processing Record 17 of Set 5 | praia da vitoria\n",
      "Processing Record 18 of Set 5 | uchiza\n",
      "Processing Record 19 of Set 5 | sao filipe\n",
      "Processing Record 20 of Set 5 | pevek\n",
      "Processing Record 21 of Set 5 | lloret de mar\n",
      "Processing Record 22 of Set 5 | sungairaya\n",
      "Processing Record 23 of Set 5 | sao joao da barra\n",
      "Processing Record 24 of Set 5 | deputatskiy\n",
      "Processing Record 25 of Set 5 | kruisfontein\n",
      "Processing Record 26 of Set 5 | kaitangata\n",
      "Processing Record 27 of Set 5 | pisco\n",
      "Processing Record 28 of Set 5 | nanakuli\n",
      "Processing Record 29 of Set 5 | narsaq\n",
      "Processing Record 30 of Set 5 | kavieng\n",
      "Processing Record 31 of Set 5 | jumla\n",
      "Processing Record 32 of Set 5 | ancud\n",
      "Processing Record 33 of Set 5 | san andres\n",
      "Processing Record 34 of Set 5 | geraldton\n",
      "Processing Record 35 of Set 5 | camacha\n",
      "Processing Record 36 of Set 5 | quedlinburg\n",
      "Processing Record 37 of Set 5 | alyangula\n",
      "Processing Record 38 of Set 5 | turukhansk\n",
      "Processing Record 39 of Set 5 | andenes\n",
      "Processing Record 40 of Set 5 | zeya\n",
      "Processing Record 41 of Set 5 | pokaran\n",
      "Processing Record 42 of Set 5 | dawson\n",
      "Processing Record 43 of Set 5 | bengkulu\n",
      "Processing Record 44 of Set 5 | ratnagiri\n",
      "Processing Record 45 of Set 5 | grand gaube\n",
      "Processing Record 46 of Set 5 | sabang\n",
      "Processing Record 47 of Set 5 | medvedevo\n",
      "Processing Record 48 of Set 5 | inhambane\n",
      "Processing Record 49 of Set 5 | cap malheureux\n",
      "Processing Record 1 of Set 6 | tanout\n",
      "Processing Record 2 of Set 6 | shihezi\n",
      "Processing Record 3 of Set 6 | biskamzha\n",
      "City not found. Skipping...\n",
      "Processing Record 4 of Set 6 | reconquista\n",
      "Processing Record 5 of Set 6 | tautira\n",
      "Processing Record 6 of Set 6 | sorong\n",
      "Processing Record 7 of Set 6 | talaya\n",
      "Processing Record 8 of Set 6 | lavrentiya\n",
      "City not found. Skipping...\n",
      "Processing Record 9 of Set 6 | severo-kurilsk\n",
      "Processing Record 10 of Set 6 | rockledge\n",
      "Processing Record 11 of Set 6 | wasilla\n",
      "Processing Record 12 of Set 6 | ilhabela\n",
      "Processing Record 13 of Set 6 | ketchikan\n",
      "Processing Record 14 of Set 6 | bilma\n",
      "Processing Record 15 of Set 6 | mezen\n",
      "Processing Record 16 of Set 6 | yumen\n",
      "Processing Record 17 of Set 6 | wakkanai\n",
      "Processing Record 18 of Set 6 | kiruna\n",
      "Processing Record 19 of Set 6 | sabha\n",
      "Processing Record 20 of Set 6 | mentougou\n",
      "Processing Record 21 of Set 6 | mashhad\n",
      "Processing Record 22 of Set 6 | gatton\n",
      "Processing Record 23 of Set 6 | kendari\n",
      "Processing Record 24 of Set 6 | clyde river\n",
      "City not found. Skipping...\n",
      "Processing Record 25 of Set 6 | bassano\n",
      "City not found. Skipping...\n",
      "Processing Record 26 of Set 6 | la asuncion\n",
      "Processing Record 27 of Set 6 | duncan\n",
      "Processing Record 28 of Set 6 | mecca\n",
      "Processing Record 29 of Set 6 | margate\n",
      "Processing Record 30 of Set 6 | disna\n",
      "City not found. Skipping...\n",
      "Processing Record 31 of Set 6 | ubinskoye\n",
      "Processing Record 32 of Set 6 | mataram\n",
      "Processing Record 33 of Set 6 | abu samrah\n",
      "Processing Record 34 of Set 6 | alofi\n",
      "Processing Record 35 of Set 6 | amboasary\n",
      "Processing Record 36 of Set 6 | surt\n",
      "Processing Record 37 of Set 6 | turka\n",
      "Processing Record 38 of Set 6 | port moresby\n",
      "Processing Record 39 of Set 6 | bubaque\n",
      "Processing Record 40 of Set 6 | charleston\n",
      "Processing Record 41 of Set 6 | belmonte\n",
      "Processing Record 42 of Set 6 | diamantino\n",
      "Processing Record 43 of Set 6 | norman wells\n",
      "Processing Record 44 of Set 6 | pangnirtung\n",
      "Processing Record 45 of Set 6 | saint anthony\n",
      "Processing Record 46 of Set 6 | shubarkuduk\n",
      "Processing Record 47 of Set 6 | cabo san lucas\n",
      "Processing Record 48 of Set 6 | nanortalik\n",
      "Processing Record 49 of Set 6 | port shepstone\n",
      "Processing Record 1 of Set 7 | calvinia\n",
      "Processing Record 2 of Set 7 | texarkana\n",
      "Processing Record 3 of Set 7 | abhar\n",
      "Processing Record 4 of Set 7 | valparaiso\n",
      "Processing Record 5 of Set 7 | vardo\n",
      "Processing Record 6 of Set 7 | kisangani\n",
      "Processing Record 7 of Set 7 | pangody\n",
      "Processing Record 8 of Set 7 | wawa\n",
      "Processing Record 9 of Set 7 | ha giang\n",
      "Processing Record 10 of Set 7 | salalah\n",
      "Processing Record 11 of Set 7 | port pirie\n",
      "City not found. Skipping...\n",
      "Processing Record 12 of Set 7 | muros\n",
      "Processing Record 13 of Set 7 | mehamn\n",
      "City not found. Skipping...\n",
      "Processing Record 14 of Set 7 | wanning\n",
      "Processing Record 15 of Set 7 | saint-paul\n",
      "Processing Record 16 of Set 7 | jardim\n",
      "Processing Record 17 of Set 7 | tenenkou\n",
      "Processing Record 18 of Set 7 | monrovia\n",
      "Processing Record 19 of Set 7 | nemuro\n",
      "Processing Record 20 of Set 7 | maraa\n",
      "Processing Record 21 of Set 7 | fort nelson\n",
      "City not found. Skipping...\n",
      "Processing Record 22 of Set 7 | pacific grove\n",
      "Processing Record 23 of Set 7 | ilulissat\n",
      "Processing Record 24 of Set 7 | acapulco\n",
      "Processing Record 25 of Set 7 | nuuk\n",
      "Processing Record 26 of Set 7 | coruripe\n",
      "Processing Record 27 of Set 7 | jasper\n",
      "Processing Record 28 of Set 7 | tokmak\n",
      "City not found. Skipping...\n",
      "Processing Record 29 of Set 7 | hofn\n",
      "Processing Record 30 of Set 7 | roseburg\n",
      "Processing Record 31 of Set 7 | kushiro\n",
      "Processing Record 32 of Set 7 | nishihara\n",
      "Processing Record 33 of Set 7 | seddon\n",
      "Processing Record 34 of Set 7 | joshimath\n",
      "Processing Record 35 of Set 7 | progreso\n",
      "Processing Record 36 of Set 7 | kralendijk\n"
     ]
    },
    {
     "name": "stdout",
     "output_type": "stream",
     "text": [
      "Processing Record 37 of Set 7 | warsaw\n",
      "Processing Record 38 of Set 7 | falmouth\n",
      "Processing Record 39 of Set 7 | ottawa\n",
      "Processing Record 40 of Set 7 | beckley\n",
      "Processing Record 41 of Set 7 | lagunas\n",
      "Processing Record 42 of Set 7 | kupang\n",
      "Processing Record 43 of Set 7 | antofagasta\n",
      "Processing Record 44 of Set 7 | sovetskiy\n",
      "Processing Record 45 of Set 7 | los llanos de aridane\n",
      "Processing Record 46 of Set 7 | lusambo\n",
      "Processing Record 47 of Set 7 | broken hill\n",
      "Processing Record 48 of Set 7 | talara\n",
      "Processing Record 49 of Set 7 | tulagi\n",
      "Processing Record 1 of Set 8 | dawei\n",
      "City not found. Skipping...\n",
      "Processing Record 2 of Set 8 | nizhniy tsasuchey\n",
      "Processing Record 3 of Set 8 | mount gambier\n",
      "Processing Record 4 of Set 8 | tura\n",
      "Processing Record 5 of Set 8 | nelson bay\n",
      "Processing Record 6 of Set 8 | pimenteiras\n",
      "Processing Record 7 of Set 8 | sulangan\n",
      "Processing Record 8 of Set 8 | birao\n",
      "Processing Record 9 of Set 8 | vuktyl\n",
      "Processing Record 10 of Set 8 | avera\n",
      "Processing Record 11 of Set 8 | warrnambool\n",
      "City not found. Skipping...\n",
      "City not found. Skipping...\n",
      "Processing Record 12 of Set 8 | shimoda\n",
      "Processing Record 13 of Set 8 | brigantine\n",
      "Processing Record 14 of Set 8 | bamiantong\n",
      "Processing Record 15 of Set 8 | yavas\n",
      "Processing Record 16 of Set 8 | waling\n",
      "Processing Record 17 of Set 8 | vitim\n",
      "Processing Record 18 of Set 8 | puncan\n",
      "Processing Record 19 of Set 8 | winslow\n",
      "Processing Record 20 of Set 8 | kabompo\n",
      "Processing Record 21 of Set 8 | george\n",
      "Processing Record 22 of Set 8 | gizo\n",
      "Processing Record 23 of Set 8 | yuancheng\n",
      "Processing Record 24 of Set 8 | woerden\n",
      "Processing Record 25 of Set 8 | benguela\n",
      "Processing Record 26 of Set 8 | tadine\n",
      "Processing Record 27 of Set 8 | tingi\n",
      "Processing Record 28 of Set 8 | decatur\n",
      "Processing Record 29 of Set 8 | cockburn town\n",
      "Processing Record 30 of Set 8 | srednekolymsk\n",
      "City not found. Skipping...\n",
      "Processing Record 31 of Set 8 | frome\n",
      "Processing Record 32 of Set 8 | ashland\n",
      "Processing Record 33 of Set 8 | verkhoyansk\n",
      "Processing Record 34 of Set 8 | ambulu\n",
      "Processing Record 35 of Set 8 | mandalgarh\n",
      "Processing Record 36 of Set 8 | bathsheba\n",
      "Processing Record 37 of Set 8 | cap-aux-meules\n",
      "Processing Record 38 of Set 8 | omboue\n",
      "Processing Record 39 of Set 8 | hamilton\n",
      "Processing Record 40 of Set 8 | yulara\n",
      "Processing Record 41 of Set 8 | bisira\n",
      "Processing Record 42 of Set 8 | port-cartier\n",
      "Processing Record 43 of Set 8 | airai\n",
      "Processing Record 44 of Set 8 | tokur\n",
      "Processing Record 45 of Set 8 | tambura\n",
      "Processing Record 46 of Set 8 | japura\n",
      "Processing Record 47 of Set 8 | fereydun kenar\n",
      "Processing Record 48 of Set 8 | cornereva\n",
      "Processing Record 49 of Set 8 | la orilla\n",
      "Processing Record 1 of Set 9 | belz\n",
      "City not found. Skipping...\n",
      "City not found. Skipping...\n",
      "Processing Record 2 of Set 9 | brownsville\n",
      "Processing Record 3 of Set 9 | ziro\n",
      "Processing Record 4 of Set 9 | lompoc\n",
      "Processing Record 5 of Set 9 | duyun\n",
      "Processing Record 6 of Set 9 | manokwari\n",
      "Processing Record 7 of Set 9 | hambantota\n",
      "Processing Record 8 of Set 9 | svetlogorsk\n",
      "Processing Record 9 of Set 9 | coihaique\n",
      "Processing Record 10 of Set 9 | sembe\n",
      "City not found. Skipping...\n",
      "Processing Record 11 of Set 9 | yorosso\n",
      "Processing Record 12 of Set 9 | caravelas\n",
      "Processing Record 13 of Set 9 | tabory\n",
      "Processing Record 14 of Set 9 | lazaro cardenas\n",
      "Processing Record 15 of Set 9 | kalmunai\n",
      "Processing Record 16 of Set 9 | brodokalmak\n",
      "Processing Record 17 of Set 9 | guerrero negro\n",
      "Processing Record 18 of Set 9 | isfana\n",
      "Processing Record 19 of Set 9 | cidreira\n",
      "Processing Record 20 of Set 9 | ulcinj\n",
      "Processing Record 21 of Set 9 | vila franca do campo\n",
      "Processing Record 22 of Set 9 | barra patuca\n",
      "Processing Record 23 of Set 9 | gobabis\n",
      "City not found. Skipping...\n",
      "Processing Record 24 of Set 9 | nouakchott\n",
      "Processing Record 25 of Set 9 | tyssedal\n",
      "Processing Record 26 of Set 9 | saint-pierre\n",
      "Processing Record 27 of Set 9 | lakhdenpokhya\n",
      "Processing Record 28 of Set 9 | bandarbeyla\n",
      "Processing Record 29 of Set 9 | togur\n",
      "Processing Record 30 of Set 9 | mirnyy\n",
      "Processing Record 31 of Set 9 | sao jose da coroa grande\n",
      "Processing Record 32 of Set 9 | sebastian\n",
      "Processing Record 33 of Set 9 | stourbridge\n",
      "Processing Record 34 of Set 9 | kamaishi\n",
      "Processing Record 35 of Set 9 | asau\n",
      "Processing Record 36 of Set 9 | sur\n",
      "City not found. Skipping...\n",
      "Processing Record 37 of Set 9 | saint-louis\n",
      "Processing Record 38 of Set 9 | lorengau\n",
      "Processing Record 39 of Set 9 | matara\n",
      "Processing Record 40 of Set 9 | katsuura\n",
      "Processing Record 41 of Set 9 | uarini\n",
      "Processing Record 42 of Set 9 | jurm\n",
      "Processing Record 43 of Set 9 | erenhot\n",
      "Processing Record 44 of Set 9 | preobrazheniye\n",
      "Processing Record 45 of Set 9 | the pas\n",
      "Processing Record 46 of Set 9 | la peca\n",
      "Processing Record 47 of Set 9 | roma\n",
      "Processing Record 48 of Set 9 | sochi\n",
      "Processing Record 49 of Set 9 | kandrian\n",
      "Processing Record 1 of Set 10 | staraya russa\n",
      "Processing Record 2 of Set 10 | aykhal\n",
      "Processing Record 3 of Set 10 | pareora\n",
      "Processing Record 4 of Set 10 | baraki barak\n",
      "Processing Record 5 of Set 10 | ouallam\n",
      "Processing Record 6 of Set 10 | beverley\n",
      "Processing Record 7 of Set 10 | bra\n",
      "Processing Record 8 of Set 10 | chicama\n",
      "Processing Record 9 of Set 10 | kulhudhuffushi\n",
      "Processing Record 10 of Set 10 | sobolevo\n",
      "City not found. Skipping...\n",
      "Processing Record 11 of Set 10 | saint-augustin\n",
      "Processing Record 12 of Set 10 | kalispell\n",
      "Processing Record 13 of Set 10 | khasan\n",
      "Processing Record 14 of Set 10 | cajnice\n",
      "Processing Record 15 of Set 10 | qaqortoq\n",
      "Processing Record 16 of Set 10 | touros\n",
      "Processing Record 17 of Set 10 | jijiga\n",
      "Processing Record 18 of Set 10 | fredericksburg\n",
      "Processing Record 19 of Set 10 | codrington\n",
      "Processing Record 20 of Set 10 | phaphund\n",
      "City not found. Skipping...\n",
      "Processing Record 21 of Set 10 | itarema\n",
      "Processing Record 22 of Set 10 | makakilo city\n",
      "City not found. Skipping...\n",
      "Processing Record 23 of Set 10 | winnipeg\n",
      "Processing Record 24 of Set 10 | chemodanovka\n",
      "Processing Record 25 of Set 10 | palimbang\n",
      "Processing Record 26 of Set 10 | kondopoga\n",
      "Processing Record 27 of Set 10 | tulun\n",
      "Processing Record 28 of Set 10 | qusar\n",
      "Processing Record 29 of Set 10 | bosaso\n",
      "Processing Record 30 of Set 10 | dahra\n",
      "Processing Record 31 of Set 10 | turayf\n",
      "Processing Record 32 of Set 10 | sistranda\n",
      "Processing Record 33 of Set 10 | tarko-sale\n",
      "Processing Record 34 of Set 10 | hede\n",
      "Processing Record 35 of Set 10 | prince rupert\n",
      "Processing Record 36 of Set 10 | caiaponia\n",
      "Processing Record 37 of Set 10 | mar de espanha\n",
      "Processing Record 38 of Set 10 | noumea\n",
      "Processing Record 39 of Set 10 | ornskoldsvik\n",
      "Processing Record 40 of Set 10 | igrim\n",
      "Processing Record 41 of Set 10 | ahipara\n",
      "Processing Record 42 of Set 10 | gallup\n",
      "Processing Record 43 of Set 10 | vitoria da conquista\n",
      "Processing Record 44 of Set 10 | yebaishou\n",
      "Processing Record 45 of Set 10 | ballina\n",
      "Processing Record 46 of Set 10 | les cayes\n",
      "Processing Record 47 of Set 10 | san bartolome\n",
      "Processing Record 48 of Set 10 | tual\n",
      "Processing Record 49 of Set 10 | phan thiet\n",
      "Processing Record 1 of Set 11 | plaster rock\n",
      "Processing Record 2 of Set 11 | skogn\n",
      "Processing Record 3 of Set 11 | campoverde\n",
      "Processing Record 4 of Set 11 | kudahuvadhoo\n",
      "Processing Record 5 of Set 11 | padang\n",
      "City not found. Skipping...\n",
      "City not found. Skipping...\n",
      "Processing Record 6 of Set 11 | mahon\n",
      "Processing Record 7 of Set 11 | cascais\n",
      "Processing Record 8 of Set 11 | itoman\n",
      "Processing Record 9 of Set 11 | raudeberg\n",
      "Processing Record 10 of Set 11 | camopi\n",
      "Processing Record 11 of Set 11 | eskil\n",
      "Processing Record 12 of Set 11 | nizhniy baskunchak\n",
      "City not found. Skipping...\n",
      "Processing Record 13 of Set 11 | taperoa\n",
      "Processing Record 14 of Set 11 | hanzhong\n",
      "Processing Record 15 of Set 11 | hokitika\n",
      "Processing Record 16 of Set 11 | semey\n",
      "Processing Record 17 of Set 11 | onverwacht\n",
      "Processing Record 18 of Set 11 | novocheboksarsk\n",
      "Processing Record 19 of Set 11 | cessnock\n",
      "Processing Record 20 of Set 11 | consett\n",
      "Processing Record 21 of Set 11 | mitsamiouli\n",
      "City not found. Skipping...\n",
      "Processing Record 22 of Set 11 | severnyy\n",
      "Processing Record 23 of Set 11 | ust-karsk\n",
      "Processing Record 24 of Set 11 | wheeling\n",
      "Processing Record 25 of Set 11 | teluknaga\n",
      "Processing Record 26 of Set 11 | alpena\n",
      "Processing Record 27 of Set 11 | awbari\n"
     ]
    },
    {
     "name": "stdout",
     "output_type": "stream",
     "text": [
      "Processing Record 28 of Set 11 | saint-georges\n",
      "Processing Record 29 of Set 11 | tabou\n",
      "Processing Record 30 of Set 11 | cururupu\n",
      "Processing Record 31 of Set 11 | omsukchan\n",
      "Processing Record 32 of Set 11 | gravelbourg\n",
      "Processing Record 33 of Set 11 | kogon\n",
      "Processing Record 34 of Set 11 | ginir\n",
      "Processing Record 35 of Set 11 | quelimane\n",
      "Processing Record 36 of Set 11 | zhoucheng\n",
      "Processing Record 37 of Set 11 | northam\n",
      "City not found. Skipping...\n",
      "Processing Record 38 of Set 11 | pimentel\n",
      "City not found. Skipping...\n",
      "City not found. Skipping...\n",
      "Processing Record 39 of Set 11 | antananarivo\n",
      "------------------------------\n",
      "Data Retrieval Complete\n",
      "------------------------------\n"
     ]
    }
   ],
   "source": [
    "url = \"http://api.openweathermap.org/data/2.5/weather?\"\n",
    "\n",
    "tempunits=\"imperial\"\n",
    "\n",
    "City=[]\n",
    "Cloudiness=[]\n",
    "Country=[]\n",
    "Date=[]\n",
    "Humidity=[]\n",
    "Lat=[]\n",
    "Lng=[]\n",
    "MaxTemp=[]\n",
    "WindSpeed=[]\n",
    "\n",
    "setnumber=0\n",
    "recordnumber=0\n",
    "\n",
    "print(\"Beginning Data Retrieval\")     \n",
    "print(\"-----------------------------\")\n",
    "\n",
    "#Loop through the random cities from citipy\n",
    "for city in cities:\n",
    "    \n",
    "    #Not all states will be found on openweather and we want the code to keep looping so make a try\n",
    "    try:\n",
    "        #Use openweather api\n",
    "        query_url = url + \"appid=\" + weather_api_key + \"&q=\" + city + \"&units=\" + tempunits\n",
    "        weather_response = requests.get(query_url).json()\n",
    "        \n",
    "        #append lists - need to store to put info into df\n",
    "        City.append(weather_response[\"name\"])\n",
    "        Cloudiness.append(weather_response[\"clouds\"][\"all\"])\n",
    "        Country.append(weather_response[\"sys\"][\"country\"])\n",
    "        Date.append(weather_response[\"dt\"])\n",
    "        Humidity.append(weather_response[\"main\"][\"humidity\"])\n",
    "        Lat.append(weather_response[\"coord\"][\"lat\"])\n",
    "        Lng.append(weather_response[\"coord\"][\"lon\"])\n",
    "        MaxTemp.append(weather_response[\"main\"][\"temp_max\"])\n",
    "        WindSpeed.append(weather_response[\"wind\"][\"speed\"])\n",
    "        \n",
    "        if recordnumber>=49:\n",
    "            recordnumber=1\n",
    "            setnumber+=1\n",
    "        elif recordnumber<49:\n",
    "            recordnumber+=1\n",
    "            \n",
    "        print(f'Processing Record {recordnumber} of Set {setnumber} | {city}')\n",
    "    \n",
    "    #If city isn't found\n",
    "    except:\n",
    "        print(\"City not found. Skipping...\")\n",
    "        \n",
    "print(\"------------------------------\\nData Retrieval Complete\\n------------------------------\")"
   ]
  },
  {
   "cell_type": "markdown",
   "metadata": {},
   "source": [
    "### Convert Raw Data to DataFrame\n",
    "* Export the city data into a .csv.\n",
    "* Display the DataFrame"
   ]
  },
  {
   "cell_type": "code",
   "execution_count": 4,
   "metadata": {},
   "outputs": [
    {
     "data": {
      "text/plain": [
       "City          578\n",
       "Cloudiness    578\n",
       "Country       578\n",
       "Date          578\n",
       "Humidity      578\n",
       "Lat           578\n",
       "Lng           578\n",
       "Max Temp      578\n",
       "Wind Speed    578\n",
       "dtype: int64"
      ]
     },
     "execution_count": 4,
     "metadata": {},
     "output_type": "execute_result"
    }
   ],
   "source": [
    "#Create DataFrame\n",
    "weather_information={\"City\":City, \"Cloudiness\":Cloudiness, \"Country\": Country, \"Date\": Date, \"Humidity\": Humidity,\"Lat\":Lat,\n",
    "                    \"Lng\":Lng,\"Max Temp\":MaxTemp, \"Wind Speed\":WindSpeed}\n",
    "weather_df=pd.DataFrame(weather_information)\n",
    "weather_df.count()"
   ]
  },
  {
   "cell_type": "code",
   "execution_count": 5,
   "metadata": {},
   "outputs": [
    {
     "data": {
      "text/html": [
       "<div>\n",
       "<style scoped>\n",
       "    .dataframe tbody tr th:only-of-type {\n",
       "        vertical-align: middle;\n",
       "    }\n",
       "\n",
       "    .dataframe tbody tr th {\n",
       "        vertical-align: top;\n",
       "    }\n",
       "\n",
       "    .dataframe thead th {\n",
       "        text-align: right;\n",
       "    }\n",
       "</style>\n",
       "<table border=\"1\" class=\"dataframe\">\n",
       "  <thead>\n",
       "    <tr style=\"text-align: right;\">\n",
       "      <th></th>\n",
       "      <th>City</th>\n",
       "      <th>Cloudiness</th>\n",
       "      <th>Country</th>\n",
       "      <th>Date</th>\n",
       "      <th>Humidity</th>\n",
       "      <th>Lat</th>\n",
       "      <th>Lng</th>\n",
       "      <th>Max Temp</th>\n",
       "      <th>Wind Speed</th>\n",
       "    </tr>\n",
       "  </thead>\n",
       "  <tbody>\n",
       "    <tr>\n",
       "      <th>0</th>\n",
       "      <td>Hermanus</td>\n",
       "      <td>100</td>\n",
       "      <td>ZA</td>\n",
       "      <td>1586634368</td>\n",
       "      <td>87</td>\n",
       "      <td>-34.42</td>\n",
       "      <td>19.23</td>\n",
       "      <td>64.99</td>\n",
       "      <td>10.00</td>\n",
       "    </tr>\n",
       "    <tr>\n",
       "      <th>1</th>\n",
       "      <td>Port Alfred</td>\n",
       "      <td>97</td>\n",
       "      <td>ZA</td>\n",
       "      <td>1586634369</td>\n",
       "      <td>91</td>\n",
       "      <td>-33.59</td>\n",
       "      <td>26.89</td>\n",
       "      <td>68.00</td>\n",
       "      <td>7.00</td>\n",
       "    </tr>\n",
       "    <tr>\n",
       "      <th>2</th>\n",
       "      <td>Olafsvik</td>\n",
       "      <td>60</td>\n",
       "      <td>IS</td>\n",
       "      <td>1586634369</td>\n",
       "      <td>79</td>\n",
       "      <td>64.89</td>\n",
       "      <td>-23.71</td>\n",
       "      <td>37.24</td>\n",
       "      <td>28.39</td>\n",
       "    </tr>\n",
       "    <tr>\n",
       "      <th>3</th>\n",
       "      <td>Berlevåg</td>\n",
       "      <td>79</td>\n",
       "      <td>NO</td>\n",
       "      <td>1586634369</td>\n",
       "      <td>90</td>\n",
       "      <td>70.86</td>\n",
       "      <td>29.09</td>\n",
       "      <td>25.02</td>\n",
       "      <td>3.24</td>\n",
       "    </tr>\n",
       "    <tr>\n",
       "      <th>4</th>\n",
       "      <td>Barrow</td>\n",
       "      <td>90</td>\n",
       "      <td>US</td>\n",
       "      <td>1586634369</td>\n",
       "      <td>84</td>\n",
       "      <td>71.29</td>\n",
       "      <td>-156.79</td>\n",
       "      <td>-2.20</td>\n",
       "      <td>11.41</td>\n",
       "    </tr>\n",
       "  </tbody>\n",
       "</table>\n",
       "</div>"
      ],
      "text/plain": [
       "          City  Cloudiness Country        Date  Humidity    Lat     Lng  \\\n",
       "0     Hermanus         100      ZA  1586634368        87 -34.42   19.23   \n",
       "1  Port Alfred          97      ZA  1586634369        91 -33.59   26.89   \n",
       "2     Olafsvik          60      IS  1586634369        79  64.89  -23.71   \n",
       "3     Berlevåg          79      NO  1586634369        90  70.86   29.09   \n",
       "4       Barrow          90      US  1586634369        84  71.29 -156.79   \n",
       "\n",
       "   Max Temp  Wind Speed  \n",
       "0     64.99       10.00  \n",
       "1     68.00        7.00  \n",
       "2     37.24       28.39  \n",
       "3     25.02        3.24  \n",
       "4     -2.20       11.41  "
      ]
     },
     "execution_count": 5,
     "metadata": {},
     "output_type": "execute_result"
    }
   ],
   "source": [
    "#Display DataFrame\n",
    "weather_df.head()"
   ]
  },
  {
   "cell_type": "code",
   "execution_count": 6,
   "metadata": {},
   "outputs": [],
   "source": [
    "#Exporting DataFrame to csv\n",
    "weather_df.to_csv(output_data_file, index=False)"
   ]
  },
  {
   "cell_type": "markdown",
   "metadata": {},
   "source": [
    "### Plotting the Data\n",
    "* Use proper labeling of the plots using plot titles (including date of analysis) and axes labels.\n",
    "* Save the plotted figures as .pngs."
   ]
  },
  {
   "cell_type": "markdown",
   "metadata": {},
   "source": [
    "#### Latitude vs. Temperature Plot"
   ]
  },
  {
   "cell_type": "code",
   "execution_count": 7,
   "metadata": {
    "scrolled": true
   },
   "outputs": [
    {
     "data": {
      "text/plain": [
       "Text(0, 0.5, 'Max Temperature (F)')"
      ]
     },
     "execution_count": 7,
     "metadata": {},
     "output_type": "execute_result"
    },
    {
     "data": {
      "image/png": "[encoded data removed]",
      "text/plain": [
       "<Figure size 432x288 with 1 Axes>"
      ]
     },
     "metadata": {
      "needs_background": "light"
     },
     "output_type": "display_data"
    }
   ],
   "source": [
    "plt.scatter(weather_df[\"Lat\"], weather_df[\"Max Temp\"])\n",
    "\n",
    "\n",
    "today = date.today().strftime(\"%m/%d/%Y\")\n",
    "\n",
    "#pull date from time module\n",
    "plt.title(f'City Latitude vs. Max Temperature ({today})')\n",
    "plt.xlabel(\"Latitude\")\n",
    "plt.ylabel(\"Max Temperature (F)\")"
   ]
  },
  {
   "cell_type": "markdown",
   "metadata": {},
   "source": [
    "#### Latitude vs. Humidity Plot"
   ]
  },
  {
   "cell_type": "code",
   "execution_count": 8,
   "metadata": {},
   "outputs": [
    {
     "data": {
      "text/plain": [
       "Text(0, 0.5, 'Humidity (%)')"
      ]
     },
     "execution_count": 8,
     "metadata": {},
     "output_type": "execute_result"
    },
    {
     "data": {
      "image/png": "[encoded data removed]",
      "text/plain": [
       "<Figure size 432x288 with 1 Axes>"
      ]
     },
     "metadata": {
      "needs_background": "light"
     },
     "output_type": "display_data"
    }
   ],
   "source": [
    "plt.scatter(weather_df[\"Lat\"], weather_df[\"Humidity\"])\n",
    "plt.title(f'City Latitude vs. Humidity ({today})')\n",
    "plt.xlabel(\"Latitude\")\n",
    "plt.ylabel(\"Humidity (%)\")"
   ]
  },
  {
   "cell_type": "markdown",
   "metadata": {},
   "source": [
    "#### Latitude vs. Cloudiness Plot"
   ]
  },
  {
   "cell_type": "code",
   "execution_count": 9,
   "metadata": {},
   "outputs": [
    {
     "data": {
      "text/plain": [
       "Text(0, 0.5, 'Cloudiness (%)')"
      ]
     },
     "execution_count": 9,
     "metadata": {},
     "output_type": "execute_result"
    },
    {
     "data": {
      "image/png": "[encoded data removed]",
      "text/plain": [
       "<Figure size 432x288 with 1 Axes>"
      ]
     },
     "metadata": {
      "needs_background": "light"
     },
     "output_type": "display_data"
    }
   ],
   "source": [
    "plt.scatter(weather_df[\"Lat\"], weather_df[\"Cloudiness\"])\n",
    "plt.title(f'City Latitude vs. Cloudiness ({today})')\n",
    "plt.xlabel(\"Latitude\")\n",
    "plt.ylabel(\"Cloudiness (%)\")"
   ]
  },
  {
   "cell_type": "markdown",
   "metadata": {},
   "source": [
    "#### Latitude vs. Wind Speed Plot"
   ]
  },
  {
   "cell_type": "code",
   "execution_count": 10,
   "metadata": {},
   "outputs": [
    {
     "data": {
      "text/plain": [
       "Text(0, 0.5, 'Wind Speed (mph)')"
      ]
     },
     "execution_count": 10,
     "metadata": {},
     "output_type": "execute_result"
    },
    {
     "data": {
      "image/png": "[encoded data removed]",
      "text/plain": [
       "<Figure size 432x288 with 1 Axes>"
      ]
     },
     "metadata": {
      "needs_background": "light"
     },
     "output_type": "display_data"
    }
   ],
   "source": [
    "plt.scatter(weather_df[\"Lat\"], weather_df[\"Wind Speed\"])\n",
    "plt.title(f'City Latitude vs. Wind Speed ({today})')\n",
    "plt.xlabel(\"Latitude\")\n",
    "plt.ylabel(\"Wind Speed (mph)\")"
   ]
  },
  {
   "cell_type": "markdown",
   "metadata": {},
   "source": [
    "## Linear Regression"
   ]
  },
  {
   "cell_type": "code",
   "execution_count": 11,
   "metadata": {},
   "outputs": [],
   "source": [
    "# OPTIONAL: Create a function to create Linear Regression plots\n"
   ]
  },
  {
   "cell_type": "code",
   "execution_count": 12,
   "metadata": {},
   "outputs": [
    {
     "data": {
      "text/html": [
       "<div>\n",
       "<style scoped>\n",
       "    .dataframe tbody tr th:only-of-type {\n",
       "        vertical-align: middle;\n",
       "    }\n",
       "\n",
       "    .dataframe tbody tr th {\n",
       "        vertical-align: top;\n",
       "    }\n",
       "\n",
       "    .dataframe thead th {\n",
       "        text-align: right;\n",
       "    }\n",
       "</style>\n",
       "<table border=\"1\" class=\"dataframe\">\n",
       "  <thead>\n",
       "    <tr style=\"text-align: right;\">\n",
       "      <th></th>\n",
       "      <th>City</th>\n",
       "      <th>Cloudiness</th>\n",
       "      <th>Country</th>\n",
       "      <th>Date</th>\n",
       "      <th>Humidity</th>\n",
       "      <th>Lat</th>\n",
       "      <th>Lng</th>\n",
       "      <th>Max Temp</th>\n",
       "      <th>Wind Speed</th>\n",
       "    </tr>\n",
       "  </thead>\n",
       "  <tbody>\n",
       "    <tr>\n",
       "      <th>2</th>\n",
       "      <td>Olafsvik</td>\n",
       "      <td>60</td>\n",
       "      <td>IS</td>\n",
       "      <td>1586634369</td>\n",
       "      <td>79</td>\n",
       "      <td>64.89</td>\n",
       "      <td>-23.71</td>\n",
       "      <td>37.24</td>\n",
       "      <td>28.39</td>\n",
       "    </tr>\n",
       "    <tr>\n",
       "      <th>3</th>\n",
       "      <td>Berlevåg</td>\n",
       "      <td>79</td>\n",
       "      <td>NO</td>\n",
       "      <td>1586634369</td>\n",
       "      <td>90</td>\n",
       "      <td>70.86</td>\n",
       "      <td>29.09</td>\n",
       "      <td>25.02</td>\n",
       "      <td>3.24</td>\n",
       "    </tr>\n",
       "    <tr>\n",
       "      <th>4</th>\n",
       "      <td>Barrow</td>\n",
       "      <td>90</td>\n",
       "      <td>US</td>\n",
       "      <td>1586634369</td>\n",
       "      <td>84</td>\n",
       "      <td>71.29</td>\n",
       "      <td>-156.79</td>\n",
       "      <td>-2.20</td>\n",
       "      <td>11.41</td>\n",
       "    </tr>\n",
       "    <tr>\n",
       "      <th>5</th>\n",
       "      <td>Yellowknife</td>\n",
       "      <td>20</td>\n",
       "      <td>CA</td>\n",
       "      <td>1586634290</td>\n",
       "      <td>52</td>\n",
       "      <td>62.46</td>\n",
       "      <td>-114.35</td>\n",
       "      <td>16.00</td>\n",
       "      <td>12.75</td>\n",
       "    </tr>\n",
       "    <tr>\n",
       "      <th>8</th>\n",
       "      <td>Karīmganj</td>\n",
       "      <td>0</td>\n",
       "      <td>IN</td>\n",
       "      <td>1586634370</td>\n",
       "      <td>49</td>\n",
       "      <td>24.87</td>\n",
       "      <td>92.35</td>\n",
       "      <td>72.12</td>\n",
       "      <td>3.20</td>\n",
       "    </tr>\n",
       "  </tbody>\n",
       "</table>\n",
       "</div>"
      ],
      "text/plain": [
       "          City  Cloudiness Country        Date  Humidity    Lat     Lng  \\\n",
       "2     Olafsvik          60      IS  1586634369        79  64.89  -23.71   \n",
       "3     Berlevåg          79      NO  1586634369        90  70.86   29.09   \n",
       "4       Barrow          90      US  1586634369        84  71.29 -156.79   \n",
       "5  Yellowknife          20      CA  1586634290        52  62.46 -114.35   \n",
       "8    Karīmganj           0      IN  1586634370        49  24.87   92.35   \n",
       "\n",
       "   Max Temp  Wind Speed  \n",
       "2     37.24       28.39  \n",
       "3     25.02        3.24  \n",
       "4     -2.20       11.41  \n",
       "5     16.00       12.75  \n",
       "8     72.12        3.20  "
      ]
     },
     "execution_count": 12,
     "metadata": {},
     "output_type": "execute_result"
    }
   ],
   "source": [
    "# Create Northern Hemisphere DataFrame (greater than or equal to 0 degrees latitude)\n",
    "northernhem=weather_df.loc[weather_df[\"Lat\"]>=0]\n",
    "northernhem.head()"
   ]
  },
  {
   "cell_type": "code",
   "execution_count": 13,
   "metadata": {},
   "outputs": [
    {
     "data": {
      "text/html": [
       "<div>\n",
       "<style scoped>\n",
       "    .dataframe tbody tr th:only-of-type {\n",
       "        vertical-align: middle;\n",
       "    }\n",
       "\n",
       "    .dataframe tbody tr th {\n",
       "        vertical-align: top;\n",
       "    }\n",
       "\n",
       "    .dataframe thead th {\n",
       "        text-align: right;\n",
       "    }\n",
       "</style>\n",
       "<table border=\"1\" class=\"dataframe\">\n",
       "  <thead>\n",
       "    <tr style=\"text-align: right;\">\n",
       "      <th></th>\n",
       "      <th>City</th>\n",
       "      <th>Cloudiness</th>\n",
       "      <th>Country</th>\n",
       "      <th>Date</th>\n",
       "      <th>Humidity</th>\n",
       "      <th>Lat</th>\n",
       "      <th>Lng</th>\n",
       "      <th>Max Temp</th>\n",
       "      <th>Wind Speed</th>\n",
       "    </tr>\n",
       "  </thead>\n",
       "  <tbody>\n",
       "    <tr>\n",
       "      <th>0</th>\n",
       "      <td>Hermanus</td>\n",
       "      <td>100</td>\n",
       "      <td>ZA</td>\n",
       "      <td>1586634368</td>\n",
       "      <td>87</td>\n",
       "      <td>-34.42</td>\n",
       "      <td>19.23</td>\n",
       "      <td>64.99</td>\n",
       "      <td>10.00</td>\n",
       "    </tr>\n",
       "    <tr>\n",
       "      <th>1</th>\n",
       "      <td>Port Alfred</td>\n",
       "      <td>97</td>\n",
       "      <td>ZA</td>\n",
       "      <td>1586634369</td>\n",
       "      <td>91</td>\n",
       "      <td>-33.59</td>\n",
       "      <td>26.89</td>\n",
       "      <td>68.00</td>\n",
       "      <td>7.00</td>\n",
       "    </tr>\n",
       "    <tr>\n",
       "      <th>6</th>\n",
       "      <td>Euclides da Cunha</td>\n",
       "      <td>100</td>\n",
       "      <td>BR</td>\n",
       "      <td>1586634369</td>\n",
       "      <td>51</td>\n",
       "      <td>-10.51</td>\n",
       "      <td>-39.02</td>\n",
       "      <td>81.01</td>\n",
       "      <td>2.48</td>\n",
       "    </tr>\n",
       "    <tr>\n",
       "      <th>7</th>\n",
       "      <td>Busselton</td>\n",
       "      <td>85</td>\n",
       "      <td>AU</td>\n",
       "      <td>1586634369</td>\n",
       "      <td>58</td>\n",
       "      <td>-33.65</td>\n",
       "      <td>115.33</td>\n",
       "      <td>70.00</td>\n",
       "      <td>8.48</td>\n",
       "    </tr>\n",
       "    <tr>\n",
       "      <th>10</th>\n",
       "      <td>Cape Town</td>\n",
       "      <td>40</td>\n",
       "      <td>ZA</td>\n",
       "      <td>1586634237</td>\n",
       "      <td>88</td>\n",
       "      <td>-33.93</td>\n",
       "      <td>18.42</td>\n",
       "      <td>66.00</td>\n",
       "      <td>18.34</td>\n",
       "    </tr>\n",
       "  </tbody>\n",
       "</table>\n",
       "</div>"
      ],
      "text/plain": [
       "                 City  Cloudiness Country        Date  Humidity    Lat  \\\n",
       "0            Hermanus         100      ZA  1586634368        87 -34.42   \n",
       "1         Port Alfred          97      ZA  1586634369        91 -33.59   \n",
       "6   Euclides da Cunha         100      BR  1586634369        51 -10.51   \n",
       "7           Busselton          85      AU  1586634369        58 -33.65   \n",
       "10          Cape Town          40      ZA  1586634237        88 -33.93   \n",
       "\n",
       "       Lng  Max Temp  Wind Speed  \n",
       "0    19.23     64.99       10.00  \n",
       "1    26.89     68.00        7.00  \n",
       "6   -39.02     81.01        2.48  \n",
       "7   115.33     70.00        8.48  \n",
       "10   18.42     66.00       18.34  "
      ]
     },
     "execution_count": 13,
     "metadata": {},
     "output_type": "execute_result"
    }
   ],
   "source": [
    "# Create Southern Hemisphere DataFrame (less than 0 degrees latitude)\n",
    "southernhem=weather_df.loc[weather_df[\"Lat\"]<0]\n",
    "southernhem.head()"
   ]
  },
  {
   "cell_type": "markdown",
   "metadata": {},
   "source": [
    "####  Northern Hemisphere - Max Temp vs. Latitude Linear Regression"
   ]
  },
  {
   "cell_type": "code",
   "execution_count": 14,
   "metadata": {},
   "outputs": [
    {
     "name": "stdout",
     "output_type": "stream",
     "text": [
      "The r-squared value is 0.7804206669687561\n"
     ]
    },
    {
     "data": {
      "text/plain": [
       "Text(0, 0.5, 'Max Temp')"
      ]
     },
     "execution_count": 14,
     "metadata": {},
     "output_type": "execute_result"
    },
    {
     "data": {
      "image/png": "[encoded data removed]",
      "text/plain": [
       "<Figure size 432x288 with 1 Axes>"
      ]
     },
     "metadata": {
      "needs_background": "light"
     },
     "output_type": "display_data"
    }
   ],
   "source": [
    "# Calculate the linear regression model for Northern Hemisphere - Max Temp vs. Latitude\n",
    "(slope, intercept, rvalue, pvalue, stderr)=linregress(northernhem['Lat'],northernhem['Max Temp'])\n",
    "print(f'The r-squared value is {rvalue*rvalue}')\n",
    "\n",
    "\n",
    "#Round terms in the regression and change to strings for the annotate function\n",
    "regression=northernhem['Lat']*slope+intercept\n",
    "y_values = \"y = \" + str(round(slope,2)) + \"x + \" + str(round(intercept,2))\n",
    "\n",
    "# Plot the scatter\n",
    "plt.scatter(northernhem['Lat'],northernhem['Max Temp'])\n",
    "#Plot the regression\n",
    "plt.plot(northernhem['Lat'],regression,color=\"red\")\n",
    "plt.annotate(y_values,(10,0),fontsize=15,color=\"red\")\n",
    "\n",
    "#Format\n",
    "plt.title(\"Northern Hemisphere - Max Temp vs. Latitude\")\n",
    "plt.xlabel('Latitude')\n",
    "plt.ylabel('Max Temp')"
   ]
  },
  {
   "cell_type": "markdown",
   "metadata": {},
   "source": [
    "####  Southern Hemisphere - Max Temp vs. Latitude Linear Regression"
   ]
  },
  {
   "cell_type": "code",
   "execution_count": 15,
   "metadata": {},
   "outputs": [
    {
     "name": "stdout",
     "output_type": "stream",
     "text": [
      "The r-squared value is 0.5956455190671863\n"
     ]
    },
    {
     "data": {
      "text/plain": [
       "Text(0, 0.5, 'Max Temp')"
      ]
     },
     "execution_count": 15,
     "metadata": {},
     "output_type": "execute_result"
    },
    {
     "data": {
      "image/png": "[encoded data removed]",
      "text/plain": [
       "<Figure size 432x288 with 1 Axes>"
      ]
     },
     "metadata": {
      "needs_background": "light"
     },
     "output_type": "display_data"
    }
   ],
   "source": [
    "# Calculate the linear regression model for Southern Hemisphere - Max Temp vs. Latitude\n",
    "(slope, intercept, rvalue, pvalue, stderr)=linregress(southernhem['Lat'],southernhem['Max Temp'])\n",
    "print(f'The r-squared value is {rvalue*rvalue}')\n",
    "\n",
    "regression = southernhem['Lat']*slope+intercept\n",
    "y_values = \"y = \" + str(round(slope,2)) + \"x + \" + str(round(intercept,2))\n",
    "\n",
    "# Plot the scatter\n",
    "plt.scatter(southernhem['Lat'],southernhem['Max Temp'])\n",
    "#Plot the regression\n",
    "plt.plot(southernhem['Lat'],regression,color=\"red\")\n",
    "plt.annotate(y_values,(-30,45),fontsize=15,color=\"red\")\n",
    "\n",
    "#Format\n",
    "plt.title(\"Southern Hemisphere - Max Temp vs. Latitude\")\n",
    "plt.xlabel('Latitude')\n",
    "plt.ylabel('Max Temp')"
   ]
  },
  {
   "cell_type": "markdown",
   "metadata": {},
   "source": [
    "####  Northern Hemisphere - Humidity (%) vs. Latitude Linear Regression"
   ]
  },
  {
   "cell_type": "code",
   "execution_count": 16,
   "metadata": {},
   "outputs": [
    {
     "name": "stdout",
     "output_type": "stream",
     "text": [
      "The r-squared value is 0.10732195209187328\n"
     ]
    },
    {
     "data": {
      "text/plain": [
       "Text(0, 0.5, 'Humidity')"
      ]
     },
     "execution_count": 16,
     "metadata": {},
     "output_type": "execute_result"
    },
    {
     "data": {
      "image/png": "[encoded data removed]",
      "text/plain": [
       "<Figure size 432x288 with 1 Axes>"
      ]
     },
     "metadata": {
      "needs_background": "light"
     },
     "output_type": "display_data"
    }
   ],
   "source": [
    "# Calculate the linear regression model for Northern Hemisphere - Humidity vs. Latitude\n",
    "(slope, intercept, rvalue, pvalue, stderr)=linregress(northernhem['Lat'],northernhem['Humidity'])\n",
    "print(f'The r-squared value is {rvalue*rvalue}')\n",
    "\n",
    "regression = northernhem['Lat']*slope+intercept\n",
    "y_values = \"y = \" + str(round(slope,2)) + \"x + \" + str(round(intercept,2)) \n",
    "\n",
    "# Plot the scatter\n",
    "plt.scatter(northernhem['Lat'],northernhem['Humidity'])\n",
    "#Plot the regression\n",
    "plt.plot(northernhem['Lat'],regression,color=\"red\")\n",
    "plt.annotate(y_values,(45,15),fontsize=15,color=\"red\")\n",
    "\n",
    "#Format\n",
    "plt.title(\"Northern Hemisphere - Humidity (%) vs. Latitude\")\n",
    "plt.xlabel('Latitude')\n",
    "plt.ylabel('Humidity')"
   ]
  },
  {
   "cell_type": "markdown",
   "metadata": {},
   "source": [
    "####  Southern Hemisphere - Humidity (%) vs. Latitude Linear Regression"
   ]
  },
  {
   "cell_type": "code",
   "execution_count": 22,
   "metadata": {},
   "outputs": [
    {
     "name": "stdout",
     "output_type": "stream",
     "text": [
      "The r-squared value is 0.059815811746994414\n"
     ]
    },
    {
     "data": {
      "text/plain": [
       "Text(0, 0.5, 'Humidity')"
      ]
     },
     "execution_count": 22,
     "metadata": {},
     "output_type": "execute_result"
    },
    {
     "data": {
      "image/png": "[encoded data removed]",
      "text/plain": [
       "<Figure size 432x288 with 1 Axes>"
      ]
     },
     "metadata": {
      "needs_background": "light"
     },
     "output_type": "display_data"
    }
   ],
   "source": [
    "# Calculate the linear regression model for Southern Hemisphere - Humidity vs. Latitude\n",
    "(slope, intercept, rvalue, pvalue, stderr)=linregress(southernhem['Lat'],southernhem['Humidity'])\n",
    "print(f'The r-squared value is {rvalue*rvalue}')\n",
    "\n",
    "regression = southernhem['Lat']*slope+intercept\n",
    "y_values= \"y = \" + str(round(slope,2)) + \"x + \" + str(round(intercept,2))\n",
    "\n",
    "# Plot the scatter\n",
    "plt.scatter(southernhem['Lat'],southernhem['Humidity'])\n",
    "#Plot the regression\n",
    "plt.plot(southernhem['Lat'],regression,color=\"red\")\n",
    "plt.annotate(y_values,(-52,20),fontsize=15,color=\"red\")\n",
    "\n",
    "#Format\n",
    "plt.title(\"Southern Hemisphere - Humidity (%) vs. Latitude\")\n",
    "plt.xlabel('Latitude')\n",
    "plt.ylabel('Humidity')"
   ]
  },
  {
   "cell_type": "markdown",
   "metadata": {},
   "source": [
    "####  Northern Hemisphere - Cloudiness (%) vs. Latitude Linear Regression"
   ]
  },
  {
   "cell_type": "code",
   "execution_count": 18,
   "metadata": {},
   "outputs": [
    {
     "name": "stdout",
     "output_type": "stream",
     "text": [
      "The r-squared value is 0.028608602455418946\n"
     ]
    },
    {
     "data": {
      "text/plain": [
       "Text(0, 0.5, 'Cloudiness')"
      ]
     },
     "execution_count": 18,
     "metadata": {},
     "output_type": "execute_result"
    },
    {
     "data": {
      "image/png": "[encoded data removed]",
      "text/plain": [
       "<Figure size 432x288 with 1 Axes>"
      ]
     },
     "metadata": {
      "needs_background": "light"
     },
     "output_type": "display_data"
    }
   ],
   "source": [
    "# Calculate the linear regression model for Northern Hemisphere - Cloudiness vs. Latitude\n",
    "(slope, intercept, rvalue, pvalue, stderr)=linregress(northernhem['Lat'],northernhem['Cloudiness'])\n",
    "print(f'The r-squared value is {rvalue*rvalue}')\n",
    "\n",
    "regression = northernhem['Lat']*slope+intercept\n",
    "y_values = \"y = \" + str(round(slope,2)) + \"x + \" + str(round(intercept,2))\n",
    "\n",
    "# Plot the scatter\n",
    "plt.scatter(northernhem['Lat'],northernhem['Cloudiness'])\n",
    "#Plot the regression\n",
    "plt.plot(northernhem['Lat'],regression,color=\"red\")\n",
    "plt.annotate(y_values,(20,60),fontsize=15,color=\"red\")\n",
    "\n",
    "#Format\n",
    "plt.title(\"Northern Hemisphere - Cloudiness (%) vs. Latitude\")\n",
    "plt.xlabel('Latitude')\n",
    "plt.ylabel('Cloudiness')"
   ]
  },
  {
   "cell_type": "markdown",
   "metadata": {},
   "source": [
    "####  Southern Hemisphere - Cloudiness (%) vs. Latitude Linear Regression"
   ]
  },
  {
   "cell_type": "code",
   "execution_count": 23,
   "metadata": {},
   "outputs": [
    {
     "name": "stdout",
     "output_type": "stream",
     "text": [
      "The r-squared value is 0.00016707474049081113\n"
     ]
    },
    {
     "data": {
      "text/plain": [
       "Text(0, 0.5, 'Cloudiness')"
      ]
     },
     "execution_count": 23,
     "metadata": {},
     "output_type": "execute_result"
    },
    {
     "data": {
      "image/png": "[encoded data removed]",
      "text/plain": [
       "<Figure size 432x288 with 1 Axes>"
      ]
     },
     "metadata": {
      "needs_background": "light"
     },
     "output_type": "display_data"
    }
   ],
   "source": [
    "# Calculate the linear regression model for Southern Hemisphere - Cloudiness vs. Latitude\n",
    "(slope, intercept, rvalue, pvalue, stderr)=linregress(southernhem['Lat'],southernhem['Cloudiness'])\n",
    "print(f'The r-squared value is {rvalue*rvalue}')\n",
    "\n",
    "regression = southernhem['Lat']*slope+intercept\n",
    "y_values = \"y = \" + str(round(slope,2)) + \"x + \" + str(round(intercept,2))\n",
    "\n",
    "# Plot the scatter\n",
    "plt.scatter(southernhem['Lat'],southernhem['Humidity'])\n",
    "#Plot the regression\n",
    "plt.plot(southernhem['Lat'],regression,color=\"red\")\n",
    "plt.annotate(y_values,(-55,22),fontsize=15,color=\"red\")\n",
    "\n",
    "#Format\n",
    "plt.title(\"Southern Hemisphere - Cloudiness (%) vs. Latitude\")\n",
    "plt.xlabel('Latitude')\n",
    "plt.ylabel('Cloudiness')"
   ]
  },
  {
   "cell_type": "markdown",
   "metadata": {},
   "source": [
    "####  Northern Hemisphere - Wind Speed (mph) vs. Latitude Linear Regression"
   ]
  },
  {
   "cell_type": "code",
   "execution_count": 24,
   "metadata": {},
   "outputs": [
    {
     "name": "stdout",
     "output_type": "stream",
     "text": [
      "The r-squared value is 0.01944050361435995\n"
     ]
    },
    {
     "data": {
      "text/plain": [
       "Text(0, 0.5, 'Wind Speed')"
      ]
     },
     "execution_count": 24,
     "metadata": {},
     "output_type": "execute_result"
    },
    {
     "data": {
      "image/png": "[encoded data removed]",
      "text/plain": [
       "<Figure size 432x288 with 1 Axes>"
      ]
     },
     "metadata": {
      "needs_background": "light"
     },
     "output_type": "display_data"
    }
   ],
   "source": [
    "# Calculate the linear regression model for Southern Hemisphere - Wind Speed vs. Latitude\n",
    "(slope, intercept, rvalue, pvalue, stderr)=linregress(northernhem['Lat'],northernhem['Wind Speed'])\n",
    "print(f'The r-squared value is {rvalue*rvalue}')\n",
    "\n",
    "regression = northernhem['Lat']*slope+intercept\n",
    "y_values = \"y = \" + str(round(slope,2)) + \"x + \" + str(round(intercept,2))\n",
    "\n",
    "# Plot the scatter\n",
    "plt.scatter(northernhem['Lat'],northernhem['Wind Speed'])\n",
    "#Plot the regression\n",
    "plt.plot(northernhem['Lat'],regression,color=\"red\")\n",
    "plt.annotate(y_values,(0,30),fontsize=15,color=\"red\")\n",
    "\n",
    "#Format\n",
    "plt.title(\"Northern Hemisphere - Wind Speed (mph) vs. Latitude\")\n",
    "plt.xlabel('Latitude')\n",
    "plt.ylabel('Wind Speed')"
   ]
  },
  {
   "cell_type": "markdown",
   "metadata": {},
   "source": [
    "####  Southern Hemisphere - Wind Speed (mph) vs. Latitude Linear Regression"
   ]
  },
  {
   "cell_type": "code",
   "execution_count": 21,
   "metadata": {},
   "outputs": [
    {
     "name": "stdout",
     "output_type": "stream",
     "text": [
      "The r-squared value is 0.15047832749248902\n"
     ]
    },
    {
     "data": {
      "text/plain": [
       "Text(0, 0.5, 'Wind Speed')"
      ]
     },
     "execution_count": 21,
     "metadata": {},
     "output_type": "execute_result"
    },
    {
     "data": {
      "image/png": "[encoded data removed]",
      "text/plain": [
       "<Figure size 432x288 with 1 Axes>"
      ]
     },
     "metadata": {
      "needs_background": "light"
     },
     "output_type": "display_data"
    }
   ],
   "source": [
    "# Calculate the linear regression model for Southern Hemisphere - Wind Speed vs. Latitude\n",
    "(slope, intercept, rvalue, pvalue, stderr)=linregress(southernhem['Lat'],southernhem['Wind Speed'])\n",
    "print(f'The r-squared value is {rvalue*rvalue}')\n",
    "\n",
    "regression = southernhem['Lat']*slope+intercept\n",
    "y_values = \"y = \" + str(round(slope,2)) + \"x + \" + str(round(intercept,2))\n",
    "\n",
    "# Plot the scatter\n",
    "plt.scatter(southernhem['Lat'],southernhem['Wind Speed'])\n",
    "#Plot the regression\n",
    "plt.plot(southernhem['Lat'],regression,color=\"red\")\n",
    "plt.annotate(y_values,(-25,25),fontsize=15,color=\"red\")\n",
    "\n",
    "#Format\n",
    "plt.title(\"Southern Hemisphere - Wind Speed (mph) vs. Latitude\")\n",
    "plt.xlabel('Latitude')\n",
    "plt.ylabel('Wind Speed')"
   ]
  }
 ],
 "metadata": {
  "anaconda-cloud": {},
  "kernel_info": {
   "name": "python3"
  },
  "kernelspec": {
   "display_name": "Python 3",
   "language": "python",
   "name": "python3"
  },
  "language_info": {
   "codemirror_mode": {
    "name": "ipython",
    "version": 3
   },
   "file_extension": ".py",
   "mimetype": "text/x-python",
   "name": "python",
   "nbconvert_exporter": "python",
   "pygments_lexer": "ipython3",
   "version": "3.7.4"
  },
  "latex_envs": {
   "LaTeX_envs_menu_present": true,
   "autoclose": false,
   "autocomplete": true,
   "bibliofile": "biblio.bib",
   "cite_by": "apalike",
   "current_citInitial": 1,
   "eqLabelWithNumbers": true,
   "eqNumInitial": 1,
   "hotkeys": {
    "equation": "Ctrl-E",
    "itemize": "Ctrl-I"
   },
   "labels_anchors": false,
   "latex_user_defs": false,
   "report_style_numbering": false,
   "user_envs_cfg": false
  },
  "nteract": {
   "version": "0.12.3"
  }
 },
 "nbformat": 4,
 "nbformat_minor": 2
}
