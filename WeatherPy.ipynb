{
 "cells": [
  {
   "cell_type": "markdown",
   "metadata": {},
   "source": [
    "# WeatherPy\n",
    "----\n",
    "\n",
    "#### Note\n",
    "* Instructions have been included for each segment. You do not have to follow them exactly, but they are included to help you think through the steps."
   ]
  },
  {
   "cell_type": "code",
   "execution_count": 1,
   "metadata": {
    "scrolled": true
   },
   "outputs": [],
   "source": [
    "# Dependencies and Setup\n",
    "import matplotlib.pyplot as plt\n",
    "import pandas as pd\n",
    "import numpy as np\n",
    "import requests\n",
    "from datetime import date\n",
    "from scipy.stats import linregress\n",
    "\n",
    "# Import API key\n",
    "from api_keys import weather_api_key\n",
    "\n",
    "# Incorporated citipy to determine city based on latitude and longitude\n",
    "from citipy import citipy\n",
    "\n",
    "# Output File (CSV)\n",
    "output_data_file = \"output_data/cities.csv\"\n",
    "\n",
    "# Range of latitudes and longitudes\n",
    "lat_range = (-90, 90)\n",
    "lng_range = (-180, 180)\n",
    "\n",
    "from pprint import pprint"
   ]
  },
  {
   "cell_type": "markdown",
   "metadata": {},
   "source": [
    "## Generate Cities List"
   ]
  },
  {
   "cell_type": "code",
   "execution_count": 2,
   "metadata": {},
   "outputs": [
    {
     "data": {
      "text/plain": [
       "611"
      ]
     },
     "execution_count": 2,
     "metadata": {},
     "output_type": "execute_result"
    }
   ],
   "source": [
    "# List for holding lat_lngs and cities\n",
    "lat_lngs = []\n",
    "cities = []\n",
    "\n",
    "# Create a set of random lat and lng combinations\n",
    "lats = np.random.uniform(low=-90.000, high=90.000, size=1500)\n",
    "lngs = np.random.uniform(low=-180.000, high=180.000, size=1500)\n",
    "lat_lngs = zip(lats, lngs)\n",
    "\n",
    "# Identify nearest city for each lat, lng combination\n",
    "for lat_lng in lat_lngs:\n",
    "    city = citipy.nearest_city(lat_lng[0], lat_lng[1]).city_name\n",
    "    \n",
    "    # If the city is unique, then add it to a our cities list\n",
    "    if city not in cities:\n",
    "        cities.append(city)\n",
    "\n",
    "# Print the city count to confirm sufficient count\n",
    "len(cities)"
   ]
  },
  {
   "cell_type": "markdown",
   "metadata": {},
   "source": [
    "### Perform API Calls\n",
    "* Perform a weather check on each city using a series of successive API calls.\n",
    "* Include a print log of each city as it'sbeing processed (with the city number and city name).\n"
   ]
  },
  {
   "cell_type": "code",
   "execution_count": 3,
   "metadata": {},
   "outputs": [
    {
     "name": "stdout",
     "output_type": "stream",
     "text": [
      "Beginning Data Retrieval\n",
      "-----------------------------\n",
      "Processing Record 1 of Set 0 | sioux lookout\n",
      "Processing Record 2 of Set 0 | hilo\n",
      "Processing Record 3 of Set 0 | barrow\n",
      "Processing Record 4 of Set 0 | udachnyy\n",
      "City not found. Skipping...\n",
      "Processing Record 5 of Set 0 | port elizabeth\n",
      "Processing Record 6 of Set 0 | albany\n",
      "Processing Record 7 of Set 0 | butaritari\n",
      "Processing Record 8 of Set 0 | wladyslawowo\n",
      "Processing Record 9 of Set 0 | hermanus\n",
      "Processing Record 10 of Set 0 | fairbanks\n",
      "Processing Record 11 of Set 0 | san cristobal\n",
      "Processing Record 12 of Set 0 | qaanaaq\n",
      "Processing Record 13 of Set 0 | chokurdakh\n",
      "Processing Record 14 of Set 0 | saint-philippe\n",
      "Processing Record 15 of Set 0 | kloulklubed\n",
      "Processing Record 16 of Set 0 | tuktoyaktuk\n",
      "Processing Record 17 of Set 0 | hualmay\n",
      "Processing Record 18 of Set 0 | new norfolk\n",
      "Processing Record 19 of Set 0 | arraial do cabo\n",
      "Processing Record 20 of Set 0 | buchanan\n",
      "Processing Record 21 of Set 0 | urengoy\n",
      "Processing Record 22 of Set 0 | vaini\n",
      "Processing Record 23 of Set 0 | mataura\n",
      "Processing Record 24 of Set 0 | aracataca\n",
      "Processing Record 25 of Set 0 | busselton\n",
      "Processing Record 26 of Set 0 | husavik\n",
      "Processing Record 27 of Set 0 | lander\n",
      "Processing Record 28 of Set 0 | yumen\n",
      "Processing Record 29 of Set 0 | atuona\n",
      "City not found. Skipping...\n",
      "Processing Record 30 of Set 0 | jamestown\n",
      "Processing Record 31 of Set 0 | solnechnyy\n",
      "Processing Record 32 of Set 0 | opuwo\n",
      "Processing Record 33 of Set 0 | cayenne\n",
      "Processing Record 34 of Set 0 | dingle\n",
      "Processing Record 35 of Set 0 | shirvan\n",
      "Processing Record 36 of Set 0 | quatre cocos\n",
      "Processing Record 37 of Set 0 | beloha\n",
      "Processing Record 38 of Set 0 | port said\n",
      "Processing Record 39 of Set 0 | watrous\n",
      "Processing Record 40 of Set 0 | amapa\n",
      "Processing Record 41 of Set 0 | hailin\n",
      "Processing Record 42 of Set 0 | bilma\n",
      "Processing Record 43 of Set 0 | sao filipe\n",
      "Processing Record 44 of Set 0 | rikitea\n",
      "Processing Record 45 of Set 0 | kapaa\n",
      "Processing Record 46 of Set 0 | bluff\n",
      "City not found. Skipping...\n",
      "City not found. Skipping...\n",
      "Processing Record 47 of Set 0 | kaitangata\n",
      "Processing Record 48 of Set 0 | hobyo\n",
      "Processing Record 49 of Set 0 | punta arenas\n",
      "Processing Record 1 of Set 1 | maragogi\n",
      "Processing Record 2 of Set 1 | souillac\n",
      "Processing Record 3 of Set 1 | mar del plata\n",
      "Processing Record 4 of Set 1 | coquimbo\n",
      "Processing Record 5 of Set 1 | constitucion\n",
      "Processing Record 6 of Set 1 | sur\n",
      "Processing Record 7 of Set 1 | airai\n",
      "Processing Record 8 of Set 1 | lebu\n",
      "Processing Record 9 of Set 1 | igarka\n",
      "Processing Record 10 of Set 1 | oudtshoorn\n",
      "Processing Record 11 of Set 1 | ushuaia\n",
      "Processing Record 12 of Set 1 | ribeira grande\n",
      "Processing Record 13 of Set 1 | kalmunai\n",
      "Processing Record 14 of Set 1 | baykit\n",
      "Processing Record 15 of Set 1 | dikson\n",
      "Processing Record 16 of Set 1 | avarua\n",
      "Processing Record 17 of Set 1 | pechenga\n",
      "Processing Record 18 of Set 1 | vagur\n",
      "Processing Record 19 of Set 1 | sao geraldo do araguaia\n",
      "Processing Record 20 of Set 1 | kungurtug\n",
      "Processing Record 21 of Set 1 | makakilo city\n",
      "City not found. Skipping...\n",
      "Processing Record 22 of Set 1 | port hedland\n",
      "Processing Record 23 of Set 1 | lorengau\n",
      "Processing Record 24 of Set 1 | rio de janeiro\n",
      "Processing Record 25 of Set 1 | kavieng\n",
      "Processing Record 26 of Set 1 | zinder\n",
      "Processing Record 27 of Set 1 | lata\n",
      "Processing Record 28 of Set 1 | lavrentiya\n",
      "Processing Record 29 of Set 1 | thompson\n",
      "Processing Record 30 of Set 1 | tasiilaq\n",
      "Processing Record 31 of Set 1 | walvis bay\n",
      "City not found. Skipping...\n",
      "Processing Record 32 of Set 1 | strangnas\n",
      "Processing Record 33 of Set 1 | buhe\n",
      "Processing Record 34 of Set 1 | bandrele\n",
      "Processing Record 35 of Set 1 | moose factory\n",
      "Processing Record 36 of Set 1 | mitsamiouli\n",
      "City not found. Skipping...\n",
      "Processing Record 37 of Set 1 | lunglei\n",
      "Processing Record 38 of Set 1 | ancud\n",
      "Processing Record 39 of Set 1 | sampit\n",
      "City not found. Skipping...\n",
      "Processing Record 40 of Set 1 | dicabisagan\n",
      "City not found. Skipping...\n",
      "Processing Record 41 of Set 1 | tignere\n",
      "City not found. Skipping...\n",
      "Processing Record 42 of Set 1 | tiznit\n",
      "Processing Record 43 of Set 1 | cap malheureux\n",
      "Processing Record 44 of Set 1 | srednekolymsk\n",
      "Processing Record 45 of Set 1 | jalalpur jattan\n",
      "Processing Record 46 of Set 1 | cape town\n",
      "Processing Record 47 of Set 1 | portland\n",
      "Processing Record 48 of Set 1 | onega\n",
      "Processing Record 49 of Set 1 | shihezi\n",
      "Processing Record 1 of Set 2 | mount isa\n",
      "Processing Record 2 of Set 2 | vardo\n",
      "Processing Record 3 of Set 2 | kruisfontein\n",
      "Processing Record 4 of Set 2 | ballina\n",
      "Processing Record 5 of Set 2 | ponta do sol\n",
      "Processing Record 6 of Set 2 | bani\n",
      "Processing Record 7 of Set 2 | chuy\n",
      "Processing Record 8 of Set 2 | halmstad\n",
      "Processing Record 9 of Set 2 | axim\n",
      "Processing Record 10 of Set 2 | provideniya\n",
      "Processing Record 11 of Set 2 | holme\n",
      "Processing Record 12 of Set 2 | boa vista\n",
      "Processing Record 13 of Set 2 | east london\n",
      "Processing Record 14 of Set 2 | pevek\n",
      "Processing Record 15 of Set 2 | mount gambier\n",
      "Processing Record 16 of Set 2 | puerto ayora\n",
      "Processing Record 17 of Set 2 | montale\n",
      "Processing Record 18 of Set 2 | marienburg\n",
      "Processing Record 19 of Set 2 | port alfred\n",
      "Processing Record 20 of Set 2 | hoyanger\n",
      "Processing Record 21 of Set 2 | inuvik\n",
      "Processing Record 22 of Set 2 | nome\n",
      "Processing Record 23 of Set 2 | norman wells\n",
      "Processing Record 24 of Set 2 | qaqortoq\n",
      "Processing Record 25 of Set 2 | chapais\n",
      "Processing Record 26 of Set 2 | hofn\n",
      "Processing Record 27 of Set 2 | inhambane\n",
      "Processing Record 28 of Set 2 | mahebourg\n",
      "Processing Record 29 of Set 2 | torbay\n",
      "Processing Record 30 of Set 2 | tokmak\n",
      "City not found. Skipping...\n",
      "Processing Record 31 of Set 2 | poli\n",
      "Processing Record 32 of Set 2 | los llanos de aridane\n",
      "Processing Record 33 of Set 2 | awjilah\n",
      "Processing Record 34 of Set 2 | salalah\n",
      "Processing Record 35 of Set 2 | carnarvon\n",
      "Processing Record 36 of Set 2 | bengkulu\n",
      "Processing Record 37 of Set 2 | kidal\n",
      "City not found. Skipping...\n",
      "Processing Record 38 of Set 2 | jos\n",
      "Processing Record 39 of Set 2 | honningsvag\n",
      "Processing Record 40 of Set 2 | fortuna\n",
      "Processing Record 41 of Set 2 | saldanha\n",
      "Processing Record 42 of Set 2 | songea\n",
      "Processing Record 43 of Set 2 | hobart\n",
      "Processing Record 44 of Set 2 | macau\n",
      "Processing Record 45 of Set 2 | kodiak\n",
      "City not found. Skipping...\n",
      "Processing Record 46 of Set 2 | sitka\n",
      "Processing Record 47 of Set 2 | abalak\n",
      "Processing Record 48 of Set 2 | caravelas\n",
      "Processing Record 49 of Set 2 | leningradskiy\n",
      "Processing Record 1 of Set 3 | bagdarin\n",
      "Processing Record 2 of Set 3 | port macquarie\n",
      "Processing Record 3 of Set 3 | hanyang\n",
      "City not found. Skipping...\n",
      "Processing Record 4 of Set 3 | katsuura\n",
      "Processing Record 5 of Set 3 | adre\n",
      "Processing Record 6 of Set 3 | labuhan\n",
      "Processing Record 7 of Set 3 | jishou\n",
      "Processing Record 8 of Set 3 | oistins\n",
      "Processing Record 9 of Set 3 | mana\n",
      "Processing Record 10 of Set 3 | ilulissat\n",
      "Processing Record 11 of Set 3 | calbuco\n",
      "City not found. Skipping...\n",
      "Processing Record 12 of Set 3 | san vicente\n",
      "Processing Record 13 of Set 3 | severo-kurilsk\n",
      "Processing Record 14 of Set 3 | san luis\n",
      "City not found. Skipping...\n",
      "Processing Record 15 of Set 3 | buala\n",
      "Processing Record 16 of Set 3 | juybar\n",
      "Processing Record 17 of Set 3 | shingu\n",
      "City not found. Skipping...\n",
      "Processing Record 18 of Set 3 | talaya\n",
      "Processing Record 19 of Set 3 | camapua\n",
      "Processing Record 20 of Set 3 | carballo\n",
      "Processing Record 21 of Set 3 | hervey bay\n",
      "City not found. Skipping...\n",
      "Processing Record 22 of Set 3 | aklavik\n",
      "Processing Record 23 of Set 3 | tuatapere\n",
      "Processing Record 24 of Set 3 | fukue\n",
      "Processing Record 25 of Set 3 | vila do maio\n",
      "Processing Record 26 of Set 3 | sorland\n",
      "Processing Record 27 of Set 3 | agdam\n",
      "Processing Record 28 of Set 3 | gold coast\n",
      "Processing Record 29 of Set 3 | kailua\n",
      "Processing Record 30 of Set 3 | saskylakh\n",
      "Processing Record 31 of Set 3 | bambous virieux\n",
      "Processing Record 32 of Set 3 | lagoa\n",
      "Processing Record 33 of Set 3 | urumqi\n",
      "City not found. Skipping...\n",
      "City not found. Skipping...\n",
      "City not found. Skipping...\n",
      "Processing Record 34 of Set 3 | palamos\n",
      "City not found. Skipping...\n",
      "Processing Record 35 of Set 3 | upernavik\n",
      "Processing Record 36 of Set 3 | lisala\n",
      "Processing Record 37 of Set 3 | luanda\n"
     ]
    },
    {
     "name": "stdout",
     "output_type": "stream",
     "text": [
      "Processing Record 38 of Set 3 | nikolskoye\n",
      "Processing Record 39 of Set 3 | yellowknife\n",
      "Processing Record 40 of Set 3 | zhigansk\n",
      "City not found. Skipping...\n",
      "Processing Record 41 of Set 3 | jaguarari\n",
      "Processing Record 42 of Set 3 | borger\n",
      "Processing Record 43 of Set 3 | hami\n",
      "Processing Record 44 of Set 3 | catamarca\n",
      "Processing Record 45 of Set 3 | ust-tsilma\n",
      "Processing Record 46 of Set 3 | kimbe\n",
      "Processing Record 47 of Set 3 | pahrump\n",
      "Processing Record 48 of Set 3 | mingshui\n",
      "Processing Record 49 of Set 3 | ponta delgada\n",
      "Processing Record 1 of Set 4 | bredasdorp\n",
      "Processing Record 2 of Set 4 | santiago de cao\n",
      "Processing Record 3 of Set 4 | poya\n",
      "Processing Record 4 of Set 4 | venice\n",
      "Processing Record 5 of Set 4 | mukhtolovo\n",
      "Processing Record 6 of Set 4 | planadas\n",
      "Processing Record 7 of Set 4 | teguldet\n",
      "Processing Record 8 of Set 4 | coihaique\n",
      "Processing Record 9 of Set 4 | gondar\n",
      "Processing Record 10 of Set 4 | cheremisinovo\n",
      "Processing Record 11 of Set 4 | tigil\n",
      "Processing Record 12 of Set 4 | georgetown\n",
      "Processing Record 13 of Set 4 | bucerias\n",
      "City not found. Skipping...\n",
      "Processing Record 14 of Set 4 | nanortalik\n",
      "Processing Record 15 of Set 4 | kinablangan\n",
      "City not found. Skipping...\n",
      "Processing Record 16 of Set 4 | meulaboh\n",
      "Processing Record 17 of Set 4 | pitimbu\n",
      "City not found. Skipping...\n",
      "Processing Record 18 of Set 4 | borogontsy\n",
      "Processing Record 19 of Set 4 | bapatla\n",
      "Processing Record 20 of Set 4 | kose\n",
      "Processing Record 21 of Set 4 | hambantota\n",
      "Processing Record 22 of Set 4 | tamandare\n",
      "Processing Record 23 of Set 4 | geraldton\n",
      "Processing Record 24 of Set 4 | esperance\n",
      "Processing Record 25 of Set 4 | bathsheba\n",
      "Processing Record 26 of Set 4 | alice springs\n",
      "Processing Record 27 of Set 4 | slave lake\n",
      "Processing Record 28 of Set 4 | aljezur\n",
      "Processing Record 29 of Set 4 | buenos aires\n",
      "Processing Record 30 of Set 4 | siocon\n",
      "Processing Record 31 of Set 4 | pisco\n",
      "Processing Record 32 of Set 4 | khani\n",
      "Processing Record 33 of Set 4 | broome\n",
      "Processing Record 34 of Set 4 | acari\n",
      "Processing Record 35 of Set 4 | asau\n",
      "Processing Record 36 of Set 4 | westport\n",
      "Processing Record 37 of Set 4 | egvekinot\n",
      "Processing Record 38 of Set 4 | high rock\n",
      "Processing Record 39 of Set 4 | ginir\n",
      "Processing Record 40 of Set 4 | kenai\n",
      "Processing Record 41 of Set 4 | naze\n",
      "Processing Record 42 of Set 4 | clyde river\n",
      "Processing Record 43 of Set 4 | sisimiut\n",
      "Processing Record 44 of Set 4 | nemuro\n",
      "Processing Record 45 of Set 4 | omsukchan\n",
      "Processing Record 46 of Set 4 | yichang\n",
      "Processing Record 47 of Set 4 | okato\n",
      "Processing Record 48 of Set 4 | peniche\n",
      "Processing Record 49 of Set 4 | fairfield\n",
      "Processing Record 1 of Set 5 | barra patuca\n",
      "Processing Record 2 of Set 5 | kayerkan\n",
      "Processing Record 3 of Set 5 | klaksvik\n",
      "City not found. Skipping...\n",
      "Processing Record 4 of Set 5 | namibe\n",
      "Processing Record 5 of Set 5 | adrar\n",
      "Processing Record 6 of Set 5 | nishihara\n",
      "Processing Record 7 of Set 5 | vynohradivka\n",
      "City not found. Skipping...\n",
      "Processing Record 8 of Set 5 | waddan\n",
      "Processing Record 9 of Set 5 | college\n",
      "Processing Record 10 of Set 5 | rameswaram\n",
      "Processing Record 11 of Set 5 | oussouye\n",
      "Processing Record 12 of Set 5 | mabaruma\n",
      "Processing Record 13 of Set 5 | prescott\n",
      "Processing Record 14 of Set 5 | rincon\n",
      "Processing Record 15 of Set 5 | port hardy\n",
      "Processing Record 16 of Set 5 | vila franca do campo\n",
      "Processing Record 17 of Set 5 | bonavista\n",
      "Processing Record 18 of Set 5 | ronneby\n",
      "Processing Record 19 of Set 5 | vytegra\n",
      "Processing Record 20 of Set 5 | hithadhoo\n",
      "Processing Record 21 of Set 5 | flinders\n",
      "Processing Record 22 of Set 5 | arlit\n",
      "Processing Record 23 of Set 5 | lasa\n",
      "Processing Record 24 of Set 5 | guerrero negro\n",
      "Processing Record 25 of Set 5 | sao joao da barra\n",
      "Processing Record 26 of Set 5 | victoria\n",
      "Processing Record 27 of Set 5 | longyearbyen\n",
      "Processing Record 28 of Set 5 | talnakh\n",
      "Processing Record 29 of Set 5 | hovd\n",
      "Processing Record 30 of Set 5 | lewiston\n",
      "Processing Record 31 of Set 5 | okhtyrka\n",
      "Processing Record 32 of Set 5 | panaba\n",
      "Processing Record 33 of Set 5 | gudivada\n",
      "Processing Record 34 of Set 5 | gubkinskiy\n",
      "Processing Record 35 of Set 5 | nuuk\n",
      "Processing Record 36 of Set 5 | ostrovnoy\n",
      "Processing Record 37 of Set 5 | rodrigues alves\n",
      "Processing Record 38 of Set 5 | katobu\n",
      "City not found. Skipping...\n",
      "Processing Record 39 of Set 5 | hutang\n",
      "City not found. Skipping...\n",
      "Processing Record 40 of Set 5 | isla mujeres\n",
      "Processing Record 41 of Set 5 | joensuu\n",
      "Processing Record 42 of Set 5 | funadhoo\n",
      "City not found. Skipping...\n",
      "Processing Record 43 of Set 5 | burdur\n",
      "City not found. Skipping...\n",
      "Processing Record 44 of Set 5 | berbera\n",
      "Processing Record 45 of Set 5 | bolotnoye\n",
      "Processing Record 46 of Set 5 | kurumkan\n",
      "City not found. Skipping...\n",
      "Processing Record 47 of Set 5 | ukiah\n",
      "Processing Record 48 of Set 5 | partizanskoye\n",
      "Processing Record 49 of Set 5 | saint-joseph\n",
      "Processing Record 1 of Set 6 | marsh harbour\n",
      "City not found. Skipping...\n",
      "Processing Record 2 of Set 6 | chiredzi\n",
      "Processing Record 3 of Set 6 | vavoua\n",
      "Processing Record 4 of Set 6 | vostok\n",
      "Processing Record 5 of Set 6 | rottenmann\n",
      "Processing Record 6 of Set 6 | beringovskiy\n",
      "Processing Record 7 of Set 6 | sangmelima\n",
      "Processing Record 8 of Set 6 | orcopampa\n",
      "Processing Record 9 of Set 6 | toma\n",
      "Processing Record 10 of Set 6 | castro\n",
      "Processing Record 11 of Set 6 | hirara\n",
      "Processing Record 12 of Set 6 | comodoro rivadavia\n",
      "Processing Record 13 of Set 6 | kangalassy\n",
      "Processing Record 14 of Set 6 | duku\n",
      "Processing Record 15 of Set 6 | cortez\n",
      "Processing Record 16 of Set 6 | sakaiminato\n",
      "Processing Record 17 of Set 6 | butajira\n",
      "Processing Record 18 of Set 6 | komsomolskiy\n",
      "Processing Record 19 of Set 6 | garmsar\n",
      "Processing Record 20 of Set 6 | san carlos de bariloche\n",
      "Processing Record 21 of Set 6 | abu dhabi\n",
      "Processing Record 22 of Set 6 | faanui\n",
      "Processing Record 23 of Set 6 | andenes\n",
      "Processing Record 24 of Set 6 | acapulco\n",
      "Processing Record 25 of Set 6 | bodden town\n",
      "Processing Record 26 of Set 6 | vila velha\n",
      "Processing Record 27 of Set 6 | richards bay\n",
      "Processing Record 28 of Set 6 | cidreira\n",
      "Processing Record 29 of Set 6 | touros\n",
      "City not found. Skipping...\n",
      "Processing Record 30 of Set 6 | barcelos\n",
      "Processing Record 31 of Set 6 | springbok\n",
      "City not found. Skipping...\n",
      "Processing Record 32 of Set 6 | luoyang\n",
      "Processing Record 33 of Set 6 | berlevag\n",
      "Processing Record 34 of Set 6 | fukuma\n",
      "Processing Record 35 of Set 6 | ahipara\n",
      "Processing Record 36 of Set 6 | semnan\n",
      "Processing Record 37 of Set 6 | lodwar\n",
      "Processing Record 38 of Set 6 | shache\n",
      "Processing Record 39 of Set 6 | bafq\n",
      "Processing Record 40 of Set 6 | tilichiki\n",
      "Processing Record 41 of Set 6 | san julian\n",
      "Processing Record 42 of Set 6 | arman\n",
      "Processing Record 43 of Set 6 | abha\n",
      "Processing Record 44 of Set 6 | nioro\n",
      "Processing Record 45 of Set 6 | cherskiy\n",
      "City not found. Skipping...\n",
      "Processing Record 46 of Set 6 | yining\n",
      "Processing Record 47 of Set 6 | zabol\n",
      "Processing Record 48 of Set 6 | kasongo-lunda\n",
      "Processing Record 49 of Set 6 | praia\n",
      "Processing Record 1 of Set 7 | diffa\n",
      "Processing Record 2 of Set 7 | vitkov\n",
      "Processing Record 3 of Set 7 | saint george\n",
      "Processing Record 4 of Set 7 | tambacounda\n",
      "Processing Record 5 of Set 7 | paamiut\n",
      "Processing Record 6 of Set 7 | codrington\n",
      "Processing Record 7 of Set 7 | kropotkin\n",
      "Processing Record 8 of Set 7 | bonthe\n",
      "Processing Record 9 of Set 7 | banatski karlovac\n",
      "Processing Record 10 of Set 7 | vao\n",
      "Processing Record 11 of Set 7 | indramayu\n",
      "Processing Record 12 of Set 7 | cadillac\n",
      "Processing Record 13 of Set 7 | barentu\n",
      "City not found. Skipping...\n",
      "Processing Record 14 of Set 7 | muhos\n",
      "Processing Record 15 of Set 7 | at-bashi\n",
      "Processing Record 16 of Set 7 | evensk\n",
      "Processing Record 17 of Set 7 | iquitos\n",
      "Processing Record 18 of Set 7 | dossor\n",
      "City not found. Skipping...\n",
      "Processing Record 19 of Set 7 | port keats\n",
      "Processing Record 20 of Set 7 | santa lucia\n",
      "Processing Record 21 of Set 7 | ericeira\n",
      "Processing Record 22 of Set 7 | tiksi\n",
      "Processing Record 23 of Set 7 | bud\n",
      "Processing Record 24 of Set 7 | lompoc\n",
      "Processing Record 25 of Set 7 | praia da vitoria\n",
      "Processing Record 26 of Set 7 | muttupet\n",
      "City not found. Skipping...\n",
      "Processing Record 27 of Set 7 | zarubino\n",
      "Processing Record 28 of Set 7 | vera cruz\n",
      "Processing Record 29 of Set 7 | matamoros\n"
     ]
    },
    {
     "name": "stdout",
     "output_type": "stream",
     "text": [
      "Processing Record 30 of Set 7 | high level\n",
      "Processing Record 31 of Set 7 | anadyr\n",
      "Processing Record 32 of Set 7 | khatanga\n",
      "City not found. Skipping...\n",
      "Processing Record 33 of Set 7 | stevens point\n",
      "Processing Record 34 of Set 7 | toamasina\n",
      "Processing Record 35 of Set 7 | hasaki\n",
      "Processing Record 36 of Set 7 | kamenka\n",
      "Processing Record 37 of Set 7 | aguimes\n",
      "Processing Record 38 of Set 7 | awbari\n",
      "Processing Record 39 of Set 7 | knysna\n",
      "Processing Record 40 of Set 7 | port augusta\n",
      "Processing Record 41 of Set 7 | antalaha\n",
      "Processing Record 42 of Set 7 | baherden\n",
      "Processing Record 43 of Set 7 | yatou\n",
      "Processing Record 44 of Set 7 | baruun-urt\n",
      "Processing Record 45 of Set 7 | surt\n",
      "Processing Record 46 of Set 7 | sabinas hidalgo\n",
      "Processing Record 47 of Set 7 | dudinka\n",
      "Processing Record 48 of Set 7 | boffa\n",
      "Processing Record 49 of Set 7 | praya\n",
      "City not found. Skipping...\n",
      "Processing Record 1 of Set 8 | manggar\n",
      "Processing Record 2 of Set 8 | coolum beach\n",
      "Processing Record 3 of Set 8 | skibbereen\n",
      "Processing Record 4 of Set 8 | carupano\n",
      "Processing Record 5 of Set 8 | eureka\n",
      "Processing Record 6 of Set 8 | methven\n",
      "Processing Record 7 of Set 8 | anloga\n",
      "Processing Record 8 of Set 8 | manzhouli\n",
      "Processing Record 9 of Set 8 | bemidji\n",
      "City not found. Skipping...\n",
      "Processing Record 10 of Set 8 | jodhpur\n",
      "Processing Record 11 of Set 8 | necochea\n",
      "Processing Record 12 of Set 8 | pirganj\n",
      "Processing Record 13 of Set 8 | kuytun\n",
      "Processing Record 14 of Set 8 | velingrad\n",
      "Processing Record 15 of Set 8 | karratha\n",
      "Processing Record 16 of Set 8 | cururupu\n",
      "Processing Record 17 of Set 8 | balkanabat\n",
      "Processing Record 18 of Set 8 | harper\n",
      "Processing Record 19 of Set 8 | nouadhibou\n",
      "Processing Record 20 of Set 8 | hamilton\n",
      "Processing Record 21 of Set 8 | butterworth\n",
      "Processing Record 22 of Set 8 | kattivakkam\n",
      "Processing Record 23 of Set 8 | liku\n",
      "Processing Record 24 of Set 8 | dzerzhinskoye\n",
      "Processing Record 25 of Set 8 | faya\n",
      "Processing Record 26 of Set 8 | joao pinheiro\n",
      "Processing Record 27 of Set 8 | luderitz\n",
      "Processing Record 28 of Set 8 | kaili\n",
      "Processing Record 29 of Set 8 | taraza\n",
      "Processing Record 30 of Set 8 | grindavik\n",
      "Processing Record 31 of Set 8 | saryg-sep\n",
      "Processing Record 32 of Set 8 | narsaq\n",
      "Processing Record 33 of Set 8 | moletai\n",
      "Processing Record 34 of Set 8 | buritizeiro\n",
      "Processing Record 35 of Set 8 | choszczno\n",
      "Processing Record 36 of Set 8 | japura\n",
      "City not found. Skipping...\n",
      "City not found. Skipping...\n",
      "Processing Record 37 of Set 8 | lidkoping\n",
      "Processing Record 38 of Set 8 | bethel\n",
      "Processing Record 39 of Set 8 | laguna\n",
      "Processing Record 40 of Set 8 | whitehorse\n",
      "Processing Record 41 of Set 8 | ouadda\n",
      "Processing Record 42 of Set 8 | te anau\n",
      "Processing Record 43 of Set 8 | iralaya\n",
      "Processing Record 44 of Set 8 | namatanai\n",
      "Processing Record 45 of Set 8 | kaeo\n",
      "Processing Record 46 of Set 8 | ilhabela\n",
      "Processing Record 47 of Set 8 | homer\n",
      "Processing Record 48 of Set 8 | devgarh\n",
      "Processing Record 49 of Set 8 | yomou\n",
      "Processing Record 1 of Set 9 | kahului\n",
      "Processing Record 2 of Set 9 | ziniare\n",
      "Processing Record 3 of Set 9 | port victoria\n",
      "Processing Record 4 of Set 9 | tijara\n",
      "Processing Record 5 of Set 9 | novorzhev\n",
      "Processing Record 6 of Set 9 | petropavlovsk-kamchatskiy\n",
      "Processing Record 7 of Set 9 | najran\n",
      "Processing Record 8 of Set 9 | namanyere\n",
      "Processing Record 9 of Set 9 | heiloo\n",
      "Processing Record 10 of Set 9 | corinto\n",
      "Processing Record 11 of Set 9 | cap-aux-meules\n",
      "Processing Record 12 of Set 9 | dhidhdhoo\n",
      "Processing Record 13 of Set 9 | khandbari\n",
      "Processing Record 14 of Set 9 | rameshki\n",
      "Processing Record 15 of Set 9 | almaty\n",
      "Processing Record 16 of Set 9 | hurghada\n",
      "City not found. Skipping...\n",
      "Processing Record 17 of Set 9 | half moon bay\n",
      "Processing Record 18 of Set 9 | thinadhoo\n",
      "Processing Record 19 of Set 9 | lengshuitan\n",
      "City not found. Skipping...\n",
      "Processing Record 20 of Set 9 | cocorit\n",
      "Processing Record 21 of Set 9 | catuday\n",
      "Processing Record 22 of Set 9 | bukachacha\n",
      "Processing Record 23 of Set 9 | katangli\n",
      "Processing Record 24 of Set 9 | teruel\n",
      "Processing Record 25 of Set 9 | pochutla\n",
      "Processing Record 26 of Set 9 | sambava\n",
      "Processing Record 27 of Set 9 | gamba\n",
      "Processing Record 28 of Set 9 | nantucket\n",
      "Processing Record 29 of Set 9 | ndele\n",
      "Processing Record 30 of Set 9 | nizhnyaya omka\n",
      "Processing Record 31 of Set 9 | rundu\n",
      "City not found. Skipping...\n",
      "Processing Record 32 of Set 9 | kargasok\n",
      "Processing Record 33 of Set 9 | esso\n",
      "Processing Record 34 of Set 9 | kota bahru\n",
      "Processing Record 35 of Set 9 | ulladulla\n",
      "Processing Record 36 of Set 9 | san juan\n",
      "Processing Record 37 of Set 9 | brahasesti\n",
      "Processing Record 38 of Set 9 | goure\n",
      "Processing Record 39 of Set 9 | gushikawa\n",
      "Processing Record 40 of Set 9 | bubaque\n",
      "Processing Record 41 of Set 9 | pontianak\n",
      "Processing Record 42 of Set 9 | vestmannaeyjar\n",
      "Processing Record 43 of Set 9 | feijo\n",
      "Processing Record 44 of Set 9 | ostersund\n",
      "Processing Record 45 of Set 9 | bogovarovo\n",
      "Processing Record 46 of Set 9 | koumra\n",
      "Processing Record 47 of Set 9 | ishigaki\n",
      "Processing Record 48 of Set 9 | temirtau\n",
      "Processing Record 49 of Set 9 | el tigre\n",
      "Processing Record 1 of Set 10 | tokur\n",
      "Processing Record 2 of Set 10 | yanliang\n",
      "Processing Record 3 of Set 10 | gramado\n",
      "Processing Record 4 of Set 10 | honiara\n",
      "Processing Record 5 of Set 10 | batemans bay\n",
      "Processing Record 6 of Set 10 | sabzevar\n",
      "Processing Record 7 of Set 10 | tura\n",
      "Processing Record 8 of Set 10 | iskateley\n",
      "Processing Record 9 of Set 10 | ocho rios\n",
      "Processing Record 10 of Set 10 | williston\n",
      "Processing Record 11 of Set 10 | poso\n",
      "Processing Record 12 of Set 10 | kijang\n",
      "Processing Record 13 of Set 10 | pacific grove\n",
      "Processing Record 14 of Set 10 | morehead\n",
      "Processing Record 15 of Set 10 | kizema\n",
      "Processing Record 16 of Set 10 | carutapera\n",
      "Processing Record 17 of Set 10 | manavalakurichi\n",
      "Processing Record 18 of Set 10 | alofi\n",
      "Processing Record 19 of Set 10 | semibratovo\n",
      "Processing Record 20 of Set 10 | jardim\n",
      "Processing Record 21 of Set 10 | nabire\n",
      "Processing Record 22 of Set 10 | avera\n",
      "Processing Record 23 of Set 10 | tabou\n",
      "Processing Record 24 of Set 10 | kupang\n",
      "Processing Record 25 of Set 10 | poum\n",
      "Processing Record 26 of Set 10 | valenca\n",
      "Processing Record 27 of Set 10 | zheleznodorozhnyy\n",
      "Processing Record 28 of Set 10 | rocha\n",
      "Processing Record 29 of Set 10 | asfi\n",
      "Processing Record 30 of Set 10 | conchas\n",
      "City not found. Skipping...\n",
      "Processing Record 31 of Set 10 | pedraza\n",
      "Processing Record 32 of Set 10 | tamesis\n",
      "Processing Record 33 of Set 10 | kuching\n",
      "Processing Record 34 of Set 10 | saint-georges\n",
      "Processing Record 35 of Set 10 | ngunguru\n",
      "Processing Record 36 of Set 10 | tukrah\n",
      "Processing Record 37 of Set 10 | las palmas\n",
      "Processing Record 38 of Set 10 | lengshuijiang\n",
      "Processing Record 39 of Set 10 | envira\n",
      "Processing Record 40 of Set 10 | sistranda\n",
      "Processing Record 41 of Set 10 | mormugao\n",
      "Processing Record 42 of Set 10 | bontang\n",
      "Processing Record 43 of Set 10 | stropkov\n",
      "Processing Record 44 of Set 10 | timra\n",
      "Processing Record 45 of Set 10 | tadine\n",
      "Processing Record 46 of Set 10 | pedernales\n",
      "Processing Record 47 of Set 10 | orlik\n",
      "Processing Record 48 of Set 10 | puerto escondido\n",
      "Processing Record 49 of Set 10 | canon city\n",
      "Processing Record 1 of Set 11 | corrente\n",
      "Processing Record 2 of Set 11 | macheng\n",
      "Processing Record 3 of Set 11 | iqaluit\n",
      "Processing Record 4 of Set 11 | susanville\n",
      "Processing Record 5 of Set 11 | porto novo\n",
      "Processing Record 6 of Set 11 | mizdah\n",
      "Processing Record 7 of Set 11 | oranjemund\n",
      "Processing Record 8 of Set 11 | antofagasta\n",
      "Processing Record 9 of Set 11 | vaitape\n",
      "Processing Record 10 of Set 11 | sibolga\n",
      "Processing Record 11 of Set 11 | bongandanga\n",
      "Processing Record 12 of Set 11 | correntina\n",
      "Processing Record 13 of Set 11 | klyuchi\n",
      "Processing Record 14 of Set 11 | krasnoarmeysk\n",
      "Processing Record 15 of Set 11 | abu kamal\n",
      "Processing Record 16 of Set 11 | san lawrenz\n",
      "City not found. Skipping...\n",
      "Processing Record 17 of Set 11 | gigmoto\n",
      "Processing Record 18 of Set 11 | sechura\n",
      "Processing Record 19 of Set 11 | yeppoon\n",
      "Processing Record 20 of Set 11 | cervo\n",
      "Processing Record 21 of Set 11 | padang\n",
      "Processing Record 22 of Set 11 | sayyan\n",
      "------------------------------\n",
      "Data Retrieval Complete\n",
      "------------------------------\n"
     ]
    }
   ],
   "source": [
    "url = \"http://api.openweathermap.org/data/2.5/weather?\"\n",
    "\n",
    "tempunits=\"imperial\"\n",
    "\n",
    "City=[]\n",
    "Cloudiness=[]\n",
    "Country=[]\n",
    "Date=[]\n",
    "Humidity=[]\n",
    "Lat=[]\n",
    "Lng=[]\n",
    "MaxTemp=[]\n",
    "WindSpeed=[]\n",
    "\n",
    "setnumber=0\n",
    "recordnumber=0\n",
    "\n",
    "print(\"Beginning Data Retrieval\")     \n",
    "print(\"-----------------------------\")\n",
    "\n",
    "#Loop through the random cities from citipy\n",
    "for city in cities:\n",
    "    \n",
    "    #Not all states will be found on openweather and we want the code to keep looping so make a try\n",
    "    try:\n",
    "        #Use openweather api\n",
    "        query_url = url + \"appid=\" + weather_api_key + \"&q=\" + city + \"&units=\" + tempunits\n",
    "        weather_response = requests.get(query_url).json()\n",
    "        \n",
    "        #append lists - need to store to put info into df\n",
    "        City.append(weather_response[\"name\"])\n",
    "        Cloudiness.append(weather_response[\"clouds\"][\"all\"])\n",
    "        Country.append(weather_response[\"sys\"][\"country\"])\n",
    "        Date.append(weather_response[\"dt\"])\n",
    "        Humidity.append(weather_response[\"main\"][\"humidity\"])\n",
    "        Lat.append(weather_response[\"coord\"][\"lat\"])\n",
    "        Lng.append(weather_response[\"coord\"][\"lon\"])\n",
    "        MaxTemp.append(weather_response[\"main\"][\"temp_max\"])\n",
    "        WindSpeed.append(weather_response[\"wind\"][\"speed\"])\n",
    "        \n",
    "        if recordnumber>=49:\n",
    "            recordnumber=1\n",
    "            setnumber+=1\n",
    "        elif recordnumber<49:\n",
    "            recordnumber+=1\n",
    "            \n",
    "        print(f'Processing Record {recordnumber} of Set {setnumber} | {city}')\n",
    "    \n",
    "    #If city isn't found\n",
    "    except:\n",
    "        print(\"City not found. Skipping...\")\n",
    "        \n",
    "print(\"------------------------------\\nData Retrieval Complete\\n------------------------------\")"
   ]
  },
  {
   "cell_type": "markdown",
   "metadata": {},
   "source": [
    "### Convert Raw Data to DataFrame\n",
    "* Export the city data into a .csv.\n",
    "* Display the DataFrame"
   ]
  },
  {
   "cell_type": "code",
   "execution_count": 4,
   "metadata": {},
   "outputs": [
    {
     "data": {
      "text/plain": [
       "City          561\n",
       "Cloudiness    561\n",
       "Country       561\n",
       "Date          561\n",
       "Humidity      561\n",
       "Lat           561\n",
       "Lng           561\n",
       "Max Temp      561\n",
       "Wind Speed    561\n",
       "dtype: int64"
      ]
     },
     "execution_count": 4,
     "metadata": {},
     "output_type": "execute_result"
    }
   ],
   "source": [
    "#Create DataFrame\n",
    "weather_information={\"City\":City, \"Cloudiness\":Cloudiness, \"Country\": Country, \"Date\": Date, \"Humidity\": Humidity,\"Lat\":Lat,\n",
    "                    \"Lng\":Lng,\"Max Temp\":MaxTemp, \"Wind Speed\":WindSpeed}\n",
    "weather_df=pd.DataFrame(weather_information)\n",
    "weather_df.count()"
   ]
  },
  {
   "cell_type": "code",
   "execution_count": 5,
   "metadata": {},
   "outputs": [
    {
     "data": {
      "text/html": [
       "<div>\n",
       "<style scoped>\n",
       "    .dataframe tbody tr th:only-of-type {\n",
       "        vertical-align: middle;\n",
       "    }\n",
       "\n",
       "    .dataframe tbody tr th {\n",
       "        vertical-align: top;\n",
       "    }\n",
       "\n",
       "    .dataframe thead th {\n",
       "        text-align: right;\n",
       "    }\n",
       "</style>\n",
       "<table border=\"1\" class=\"dataframe\">\n",
       "  <thead>\n",
       "    <tr style=\"text-align: right;\">\n",
       "      <th></th>\n",
       "      <th>City</th>\n",
       "      <th>Cloudiness</th>\n",
       "      <th>Country</th>\n",
       "      <th>Date</th>\n",
       "      <th>Humidity</th>\n",
       "      <th>Lat</th>\n",
       "      <th>Lng</th>\n",
       "      <th>Max Temp</th>\n",
       "      <th>Wind Speed</th>\n",
       "    </tr>\n",
       "  </thead>\n",
       "  <tbody>\n",
       "    <tr>\n",
       "      <td>0</td>\n",
       "      <td>Sioux Lookout</td>\n",
       "      <td>75</td>\n",
       "      <td>CA</td>\n",
       "      <td>1586541570</td>\n",
       "      <td>50</td>\n",
       "      <td>50.10</td>\n",
       "      <td>-91.92</td>\n",
       "      <td>30.2</td>\n",
       "      <td>4.70</td>\n",
       "    </tr>\n",
       "    <tr>\n",
       "      <td>1</td>\n",
       "      <td>Hilo</td>\n",
       "      <td>90</td>\n",
       "      <td>US</td>\n",
       "      <td>1586541577</td>\n",
       "      <td>73</td>\n",
       "      <td>19.73</td>\n",
       "      <td>-155.09</td>\n",
       "      <td>72.0</td>\n",
       "      <td>3.36</td>\n",
       "    </tr>\n",
       "    <tr>\n",
       "      <td>2</td>\n",
       "      <td>Barrow</td>\n",
       "      <td>75</td>\n",
       "      <td>US</td>\n",
       "      <td>1586541577</td>\n",
       "      <td>91</td>\n",
       "      <td>71.29</td>\n",
       "      <td>-156.79</td>\n",
       "      <td>-14.8</td>\n",
       "      <td>5.82</td>\n",
       "    </tr>\n",
       "    <tr>\n",
       "      <td>3</td>\n",
       "      <td>Udachny</td>\n",
       "      <td>12</td>\n",
       "      <td>RU</td>\n",
       "      <td>1586541577</td>\n",
       "      <td>62</td>\n",
       "      <td>66.42</td>\n",
       "      <td>112.40</td>\n",
       "      <td>24.8</td>\n",
       "      <td>8.95</td>\n",
       "    </tr>\n",
       "    <tr>\n",
       "      <td>4</td>\n",
       "      <td>Port Elizabeth</td>\n",
       "      <td>77</td>\n",
       "      <td>ZA</td>\n",
       "      <td>1586541578</td>\n",
       "      <td>88</td>\n",
       "      <td>-33.92</td>\n",
       "      <td>25.57</td>\n",
       "      <td>62.6</td>\n",
       "      <td>9.17</td>\n",
       "    </tr>\n",
       "  </tbody>\n",
       "</table>\n",
       "</div>"
      ],
      "text/plain": [
       "             City  Cloudiness Country        Date  Humidity    Lat     Lng  \\\n",
       "0   Sioux Lookout          75      CA  1586541570        50  50.10  -91.92   \n",
       "1            Hilo          90      US  1586541577        73  19.73 -155.09   \n",
       "2          Barrow          75      US  1586541577        91  71.29 -156.79   \n",
       "3         Udachny          12      RU  1586541577        62  66.42  112.40   \n",
       "4  Port Elizabeth          77      ZA  1586541578        88 -33.92   25.57   \n",
       "\n",
       "   Max Temp  Wind Speed  \n",
       "0      30.2        4.70  \n",
       "1      72.0        3.36  \n",
       "2     -14.8        5.82  \n",
       "3      24.8        8.95  \n",
       "4      62.6        9.17  "
      ]
     },
     "execution_count": 5,
     "metadata": {},
     "output_type": "execute_result"
    }
   ],
   "source": [
    "#Display DataFrame\n",
    "weather_df.head()"
   ]
  },
  {
   "cell_type": "code",
   "execution_count": 6,
   "metadata": {},
   "outputs": [],
   "source": [
    "#Exporting DataFrame to csv\n",
    "weather_df.to_csv(output_data_file, index=False)"
   ]
  },
  {
   "cell_type": "markdown",
   "metadata": {},
   "source": [
    "### Plotting the Data\n",
    "* Use proper labeling of the plots using plot titles (including date of analysis) and axes labels.\n",
    "* Save the plotted figures as .pngs."
   ]
  },
  {
   "cell_type": "markdown",
   "metadata": {},
   "source": [
    "#### Latitude vs. Temperature Plot"
   ]
  },
  {
   "cell_type": "code",
   "execution_count": 7,
   "metadata": {
    "scrolled": true
   },
   "outputs": [
    {
     "data": {
      "text/plain": [
       "Text(0, 0.5, 'Max Temperature (F)')"
      ]
     },
     "execution_count": 7,
     "metadata": {},
     "output_type": "execute_result"
    },
    {
     "data": {
      "image/png": "[encoded data removed]",
      "text/plain": [
       "<Figure size 432x288 with 1 Axes>"
      ]
     },
     "metadata": {
      "needs_background": "light"
     },
     "output_type": "display_data"
    }
   ],
   "source": [
    "plt.scatter(weather_df[\"Lat\"], weather_df[\"Max Temp\"])\n",
    "\n",
    "\n",
    "today = date.today().strftime(\"%m/%d/%Y\")\n",
    "\n",
    "#pull date from time module\n",
    "plt.title(f'City Latitude vs. Max Temperature ({today})')\n",
    "plt.xlabel(\"Latitude\")\n",
    "plt.ylabel(\"Max Temperature (F)\")"
   ]
  },
  {
   "cell_type": "markdown",
   "metadata": {},
   "source": [
    "#### Latitude vs. Humidity Plot"
   ]
  },
  {
   "cell_type": "code",
   "execution_count": 8,
   "metadata": {},
   "outputs": [
    {
     "data": {
      "text/plain": [
       "Text(0, 0.5, 'Humidity (%)')"
      ]
     },
     "execution_count": 8,
     "metadata": {},
     "output_type": "execute_result"
    },
    {
     "data": {
      "image/png": "[encoded data removed]",
      "text/plain": [
       "<Figure size 432x288 with 1 Axes>"
      ]
     },
     "metadata": {
      "needs_background": "light"
     },
     "output_type": "display_data"
    }
   ],
   "source": [
    "plt.scatter(weather_df[\"Lat\"], weather_df[\"Humidity\"])\n",
    "plt.title(f'City Latitude vs. Humidity ({today})')\n",
    "plt.xlabel(\"Latitude\")\n",
    "plt.ylabel(\"Humidity (%)\")"
   ]
  },
  {
   "cell_type": "markdown",
   "metadata": {},
   "source": [
    "#### Latitude vs. Cloudiness Plot"
   ]
  },
  {
   "cell_type": "code",
   "execution_count": 9,
   "metadata": {},
   "outputs": [
    {
     "data": {
      "text/plain": [
       "Text(0, 0.5, 'Cloudiness (%)')"
      ]
     },
     "execution_count": 9,
     "metadata": {},
     "output_type": "execute_result"
    },
    {
     "data": {
      "image/png": "[encoded data removed]",
      "text/plain": [
       "<Figure size 432x288 with 1 Axes>"
      ]
     },
     "metadata": {
      "needs_background": "light"
     },
     "output_type": "display_data"
    }
   ],
   "source": [
    "plt.scatter(weather_df[\"Lat\"], weather_df[\"Cloudiness\"])\n",
    "plt.title(f'City Latitude vs. Cloudiness ({today})')\n",
    "plt.xlabel(\"Latitude\")\n",
    "plt.ylabel(\"Cloudiness (%)\")"
   ]
  },
  {
   "cell_type": "markdown",
   "metadata": {},
   "source": [
    "#### Latitude vs. Wind Speed Plot"
   ]
  },
  {
   "cell_type": "code",
   "execution_count": 10,
   "metadata": {},
   "outputs": [
    {
     "data": {
      "text/plain": [
       "Text(0, 0.5, 'Wind Speed (mph)')"
      ]
     },
     "execution_count": 10,
     "metadata": {},
     "output_type": "execute_result"
    },
    {
     "data": {
      "image/png": "[encoded data removed]",
      "text/plain": [
       "<Figure size 432x288 with 1 Axes>"
      ]
     },
     "metadata": {
      "needs_background": "light"
     },
     "output_type": "display_data"
    }
   ],
   "source": [
    "plt.scatter(weather_df[\"Lat\"], weather_df[\"Wind Speed\"])\n",
    "plt.title(f'City Latitude vs. Wind Speed ({today})')\n",
    "plt.xlabel(\"Latitude\")\n",
    "plt.ylabel(\"Wind Speed (mph)\")"
   ]
  },
  {
   "cell_type": "markdown",
   "metadata": {},
   "source": [
    "## Linear Regression"
   ]
  },
  {
   "cell_type": "code",
   "execution_count": 11,
   "metadata": {},
   "outputs": [],
   "source": [
    "# OPTIONAL: Create a function to create Linear Regression plots\n"
   ]
  },
  {
   "cell_type": "code",
   "execution_count": 12,
   "metadata": {},
   "outputs": [
    {
     "data": {
      "text/html": [
       "<div>\n",
       "<style scoped>\n",
       "    .dataframe tbody tr th:only-of-type {\n",
       "        vertical-align: middle;\n",
       "    }\n",
       "\n",
       "    .dataframe tbody tr th {\n",
       "        vertical-align: top;\n",
       "    }\n",
       "\n",
       "    .dataframe thead th {\n",
       "        text-align: right;\n",
       "    }\n",
       "</style>\n",
       "<table border=\"1\" class=\"dataframe\">\n",
       "  <thead>\n",
       "    <tr style=\"text-align: right;\">\n",
       "      <th></th>\n",
       "      <th>City</th>\n",
       "      <th>Cloudiness</th>\n",
       "      <th>Country</th>\n",
       "      <th>Date</th>\n",
       "      <th>Humidity</th>\n",
       "      <th>Lat</th>\n",
       "      <th>Lng</th>\n",
       "      <th>Max Temp</th>\n",
       "      <th>Wind Speed</th>\n",
       "    </tr>\n",
       "  </thead>\n",
       "  <tbody>\n",
       "    <tr>\n",
       "      <td>0</td>\n",
       "      <td>Sioux Lookout</td>\n",
       "      <td>75</td>\n",
       "      <td>CA</td>\n",
       "      <td>1586541570</td>\n",
       "      <td>50</td>\n",
       "      <td>50.10</td>\n",
       "      <td>-91.92</td>\n",
       "      <td>30.2</td>\n",
       "      <td>4.70</td>\n",
       "    </tr>\n",
       "    <tr>\n",
       "      <td>1</td>\n",
       "      <td>Hilo</td>\n",
       "      <td>90</td>\n",
       "      <td>US</td>\n",
       "      <td>1586541577</td>\n",
       "      <td>73</td>\n",
       "      <td>19.73</td>\n",
       "      <td>-155.09</td>\n",
       "      <td>72.0</td>\n",
       "      <td>3.36</td>\n",
       "    </tr>\n",
       "    <tr>\n",
       "      <td>2</td>\n",
       "      <td>Barrow</td>\n",
       "      <td>75</td>\n",
       "      <td>US</td>\n",
       "      <td>1586541577</td>\n",
       "      <td>91</td>\n",
       "      <td>71.29</td>\n",
       "      <td>-156.79</td>\n",
       "      <td>-14.8</td>\n",
       "      <td>5.82</td>\n",
       "    </tr>\n",
       "    <tr>\n",
       "      <td>3</td>\n",
       "      <td>Udachny</td>\n",
       "      <td>12</td>\n",
       "      <td>RU</td>\n",
       "      <td>1586541577</td>\n",
       "      <td>62</td>\n",
       "      <td>66.42</td>\n",
       "      <td>112.40</td>\n",
       "      <td>24.8</td>\n",
       "      <td>8.95</td>\n",
       "    </tr>\n",
       "    <tr>\n",
       "      <td>5</td>\n",
       "      <td>Albany</td>\n",
       "      <td>75</td>\n",
       "      <td>US</td>\n",
       "      <td>1586541302</td>\n",
       "      <td>56</td>\n",
       "      <td>42.60</td>\n",
       "      <td>-73.97</td>\n",
       "      <td>46.0</td>\n",
       "      <td>25.28</td>\n",
       "    </tr>\n",
       "  </tbody>\n",
       "</table>\n",
       "</div>"
      ],
      "text/plain": [
       "            City  Cloudiness Country        Date  Humidity    Lat     Lng  \\\n",
       "0  Sioux Lookout          75      CA  1586541570        50  50.10  -91.92   \n",
       "1           Hilo          90      US  1586541577        73  19.73 -155.09   \n",
       "2         Barrow          75      US  1586541577        91  71.29 -156.79   \n",
       "3        Udachny          12      RU  1586541577        62  66.42  112.40   \n",
       "5         Albany          75      US  1586541302        56  42.60  -73.97   \n",
       "\n",
       "   Max Temp  Wind Speed  \n",
       "0      30.2        4.70  \n",
       "1      72.0        3.36  \n",
       "2     -14.8        5.82  \n",
       "3      24.8        8.95  \n",
       "5      46.0       25.28  "
      ]
     },
     "execution_count": 12,
     "metadata": {},
     "output_type": "execute_result"
    }
   ],
   "source": [
    "# Create Northern Hemisphere DataFrame (greater than or equal to 0 degrees latitude)\n",
    "northernhem=weather_df.loc[weather_df[\"Lat\"]>=0]\n",
    "northernhem.head()"
   ]
  },
  {
   "cell_type": "code",
   "execution_count": 13,
   "metadata": {},
   "outputs": [
    {
     "data": {
      "text/html": [
       "<div>\n",
       "<style scoped>\n",
       "    .dataframe tbody tr th:only-of-type {\n",
       "        vertical-align: middle;\n",
       "    }\n",
       "\n",
       "    .dataframe tbody tr th {\n",
       "        vertical-align: top;\n",
       "    }\n",
       "\n",
       "    .dataframe thead th {\n",
       "        text-align: right;\n",
       "    }\n",
       "</style>\n",
       "<table border=\"1\" class=\"dataframe\">\n",
       "  <thead>\n",
       "    <tr style=\"text-align: right;\">\n",
       "      <th></th>\n",
       "      <th>City</th>\n",
       "      <th>Cloudiness</th>\n",
       "      <th>Country</th>\n",
       "      <th>Date</th>\n",
       "      <th>Humidity</th>\n",
       "      <th>Lat</th>\n",
       "      <th>Lng</th>\n",
       "      <th>Max Temp</th>\n",
       "      <th>Wind Speed</th>\n",
       "    </tr>\n",
       "  </thead>\n",
       "  <tbody>\n",
       "    <tr>\n",
       "      <td>4</td>\n",
       "      <td>Port Elizabeth</td>\n",
       "      <td>77</td>\n",
       "      <td>ZA</td>\n",
       "      <td>1586541578</td>\n",
       "      <td>88</td>\n",
       "      <td>-33.92</td>\n",
       "      <td>25.57</td>\n",
       "      <td>62.60</td>\n",
       "      <td>9.17</td>\n",
       "    </tr>\n",
       "    <tr>\n",
       "      <td>8</td>\n",
       "      <td>Hermanus</td>\n",
       "      <td>2</td>\n",
       "      <td>ZA</td>\n",
       "      <td>1586541578</td>\n",
       "      <td>91</td>\n",
       "      <td>-34.42</td>\n",
       "      <td>19.23</td>\n",
       "      <td>64.99</td>\n",
       "      <td>3.69</td>\n",
       "    </tr>\n",
       "    <tr>\n",
       "      <td>13</td>\n",
       "      <td>Saint-Philippe</td>\n",
       "      <td>20</td>\n",
       "      <td>RE</td>\n",
       "      <td>1586541579</td>\n",
       "      <td>74</td>\n",
       "      <td>-21.36</td>\n",
       "      <td>55.77</td>\n",
       "      <td>78.80</td>\n",
       "      <td>16.11</td>\n",
       "    </tr>\n",
       "    <tr>\n",
       "      <td>16</td>\n",
       "      <td>Hualmay</td>\n",
       "      <td>64</td>\n",
       "      <td>PE</td>\n",
       "      <td>1586541412</td>\n",
       "      <td>65</td>\n",
       "      <td>-11.10</td>\n",
       "      <td>-77.61</td>\n",
       "      <td>78.39</td>\n",
       "      <td>8.86</td>\n",
       "    </tr>\n",
       "    <tr>\n",
       "      <td>17</td>\n",
       "      <td>New Norfolk</td>\n",
       "      <td>75</td>\n",
       "      <td>AU</td>\n",
       "      <td>1586541579</td>\n",
       "      <td>93</td>\n",
       "      <td>-42.78</td>\n",
       "      <td>147.06</td>\n",
       "      <td>55.40</td>\n",
       "      <td>1.12</td>\n",
       "    </tr>\n",
       "  </tbody>\n",
       "</table>\n",
       "</div>"
      ],
      "text/plain": [
       "              City  Cloudiness Country        Date  Humidity    Lat     Lng  \\\n",
       "4   Port Elizabeth          77      ZA  1586541578        88 -33.92   25.57   \n",
       "8         Hermanus           2      ZA  1586541578        91 -34.42   19.23   \n",
       "13  Saint-Philippe          20      RE  1586541579        74 -21.36   55.77   \n",
       "16         Hualmay          64      PE  1586541412        65 -11.10  -77.61   \n",
       "17     New Norfolk          75      AU  1586541579        93 -42.78  147.06   \n",
       "\n",
       "    Max Temp  Wind Speed  \n",
       "4      62.60        9.17  \n",
       "8      64.99        3.69  \n",
       "13     78.80       16.11  \n",
       "16     78.39        8.86  \n",
       "17     55.40        1.12  "
      ]
     },
     "execution_count": 13,
     "metadata": {},
     "output_type": "execute_result"
    }
   ],
   "source": [
    "# Create Southern Hemisphere DataFrame (less than 0 degrees latitude)\n",
    "southernhem=weather_df.loc[weather_df[\"Lat\"]<0]\n",
    "southernhem.head()"
   ]
  },
  {
   "cell_type": "markdown",
   "metadata": {},
   "source": [
    "####  Northern Hemisphere - Max Temp vs. Latitude Linear Regression"
   ]
  },
  {
   "cell_type": "code",
   "execution_count": 14,
   "metadata": {},
   "outputs": [
    {
     "name": "stdout",
     "output_type": "stream",
     "text": [
      "The r-squared value is 0.7994134119403986\n"
     ]
    },
    {
     "data": {
      "text/plain": [
       "Text(0, 0.5, 'Max Temp')"
      ]
     },
     "execution_count": 14,
     "metadata": {},
     "output_type": "execute_result"
    },
    {
     "data": {
      "image/png": "[encoded data removed]",
      "text/plain": [
       "<Figure size 432x288 with 1 Axes>"
      ]
     },
     "metadata": {
      "needs_background": "light"
     },
     "output_type": "display_data"
    }
   ],
   "source": [
    "# Calculate the linear regression model for Northern Hemisphere - Max Temp vs. Latitude\n",
    "(slope, intercept, rvalue, pvalue, stderr)=linregress(northernhem['Lat'],northernhem['Max Temp'])\n",
    "print(f'The r-squared value is {rvalue*rvalue}')\n",
    "\n",
    "\n",
    "#Round terms in the regression and change to strings for the annotate function\n",
    "regression=northernhem['Lat']*slope+intercept\n",
    "y_values = \"y = \" + str(round(slope,2)) + \"x + \" + str(round(intercept,2))\n",
    "\n",
    "# Plot the scatter\n",
    "plt.scatter(northernhem['Lat'],northernhem['Max Temp'])\n",
    "#Plot the regression\n",
    "plt.plot(northernhem['Lat'],regression,color=\"red\")\n",
    "plt.annotate(y_values,(10,0),fontsize=15,color=\"red\")\n",
    "\n",
    "#Format\n",
    "plt.title(\"Northern Hemisphere - Max Temp vs. Latitude\")\n",
    "plt.xlabel('Latitude')\n",
    "plt.ylabel('Max Temp')"
   ]
  },
  {
   "cell_type": "markdown",
   "metadata": {},
   "source": [
    "####  Southern Hemisphere - Max Temp vs. Latitude Linear Regression"
   ]
  },
  {
   "cell_type": "code",
   "execution_count": 15,
   "metadata": {},
   "outputs": [
    {
     "name": "stdout",
     "output_type": "stream",
     "text": [
      "The r-squared value is 0.6201533084379806\n"
     ]
    },
    {
     "data": {
      "text/plain": [
       "Text(0, 0.5, 'Max Temp')"
      ]
     },
     "execution_count": 15,
     "metadata": {},
     "output_type": "execute_result"
    },
    {
     "data": {
      "image/png": "[encoded data removed]",
      "text/plain": [
       "<Figure size 432x288 with 1 Axes>"
      ]
     },
     "metadata": {
      "needs_background": "light"
     },
     "output_type": "display_data"
    }
   ],
   "source": [
    "# Calculate the linear regression model for Southern Hemisphere - Max Temp vs. Latitude\n",
    "(slope, intercept, rvalue, pvalue, stderr)=linregress(southernhem['Lat'],southernhem['Max Temp'])\n",
    "print(f'The r-squared value is {rvalue*rvalue}')\n",
    "\n",
    "regression = southernhem['Lat']*slope+intercept\n",
    "y_values = \"y = \" + str(round(slope,2)) + \"x + \" + str(round(intercept,2))\n",
    "\n",
    "# Plot the scatter\n",
    "plt.scatter(southernhem['Lat'],southernhem['Max Temp'])\n",
    "#Plot the regression\n",
    "plt.plot(southernhem['Lat'],regression,color=\"red\")\n",
    "plt.annotate(y_values,(-30,45),fontsize=15,color=\"red\")\n",
    "\n",
    "#Format\n",
    "plt.title(\"Southern Hemisphere - Max Temp vs. Latitude\")\n",
    "plt.xlabel('Latitude')\n",
    "plt.ylabel('Max Temp')"
   ]
  },
  {
   "cell_type": "markdown",
   "metadata": {},
   "source": [
    "####  Northern Hemisphere - Humidity (%) vs. Latitude Linear Regression"
   ]
  },
  {
   "cell_type": "code",
   "execution_count": 16,
   "metadata": {},
   "outputs": [
    {
     "name": "stdout",
     "output_type": "stream",
     "text": [
      "The r-squared value is 0.07934950804756981\n"
     ]
    },
    {
     "data": {
      "text/plain": [
       "Text(0, 0.5, 'Humidity')"
      ]
     },
     "execution_count": 16,
     "metadata": {},
     "output_type": "execute_result"
    },
    {
     "data": {
      "image/png": "[encoded data removed]",
      "text/plain": [
       "<Figure size 432x288 with 1 Axes>"
      ]
     },
     "metadata": {
      "needs_background": "light"
     },
     "output_type": "display_data"
    }
   ],
   "source": [
    "# Calculate the linear regression model for Northern Hemisphere - Humidity vs. Latitude\n",
    "(slope, intercept, rvalue, pvalue, stderr)=linregress(northernhem['Lat'],northernhem['Humidity'])\n",
    "print(f'The r-squared value is {rvalue*rvalue}')\n",
    "\n",
    "regression = northernhem['Lat']*slope+intercept\n",
    "y_values = \"y = \" + str(round(slope,2)) + \"x + \" + str(round(intercept,2)) \n",
    "\n",
    "# Plot the scatter\n",
    "plt.scatter(northernhem['Lat'],northernhem['Humidity'])\n",
    "#Plot the regression\n",
    "plt.plot(northernhem['Lat'],regression,color=\"red\")\n",
    "plt.annotate(y_values,(45,15),fontsize=15,color=\"red\")\n",
    "\n",
    "#Format\n",
    "plt.title(\"Northern Hemisphere - Humidity (%) vs. Latitude\")\n",
    "plt.xlabel('Latitude')\n",
    "plt.ylabel('Humidity')"
   ]
  },
  {
   "cell_type": "markdown",
   "metadata": {},
   "source": [
    "####  Southern Hemisphere - Humidity (%) vs. Latitude Linear Regression"
   ]
  },
  {
   "cell_type": "code",
   "execution_count": 17,
   "metadata": {},
   "outputs": [
    {
     "name": "stdout",
     "output_type": "stream",
     "text": [
      "The r-squared value is 5.95104937089582e-05\n"
     ]
    },
    {
     "data": {
      "text/plain": [
       "Text(0, 0.5, 'Humidity')"
      ]
     },
     "execution_count": 17,
     "metadata": {},
     "output_type": "execute_result"
    },
    {
     "data": {
      "image/png": "[encoded data removed]",
      "text/plain": [
       "<Figure size 432x288 with 1 Axes>"
      ]
     },
     "metadata": {
      "needs_background": "light"
     },
     "output_type": "display_data"
    }
   ],
   "source": [
    "# Calculate the linear regression model for Southern Hemisphere - Humidity vs. Latitude\n",
    "(slope, intercept, rvalue, pvalue, stderr)=linregress(southernhem['Lat'],southernhem['Humidity'])\n",
    "print(f'The r-squared value is {rvalue*rvalue}')\n",
    "\n",
    "regression = southernhem['Lat']*slope+intercept\n",
    "y_values= \"y = \" + str(round(slope,2)) + \"x + \" + str(round(intercept,2))\n",
    "\n",
    "# Plot the scatter\n",
    "plt.scatter(southernhem['Lat'],southernhem['Humidity'])\n",
    "#Plot the regression\n",
    "plt.plot(southernhem['Lat'],regression,color=\"red\")\n",
    "plt.annotate(y_values,(-24,15),fontsize=15,color=\"red\")\n",
    "\n",
    "#Format\n",
    "plt.title(\"Southern Hemisphere - Humidity (%) vs. Latitude\")\n",
    "plt.xlabel('Latitude')\n",
    "plt.ylabel('Humidity')"
   ]
  },
  {
   "cell_type": "markdown",
   "metadata": {},
   "source": [
    "####  Northern Hemisphere - Cloudiness (%) vs. Latitude Linear Regression"
   ]
  },
  {
   "cell_type": "code",
   "execution_count": 18,
   "metadata": {},
   "outputs": [
    {
     "name": "stdout",
     "output_type": "stream",
     "text": [
      "The r-squared value is 0.018991011565904038\n"
     ]
    },
    {
     "data": {
      "text/plain": [
       "Text(0, 0.5, 'Cloudiness')"
      ]
     },
     "execution_count": 18,
     "metadata": {},
     "output_type": "execute_result"
    },
    {
     "data": {
      "image/png": "[encoded data removed]",
      "text/plain": [
       "<Figure size 432x288 with 1 Axes>"
      ]
     },
     "metadata": {
      "needs_background": "light"
     },
     "output_type": "display_data"
    }
   ],
   "source": [
    "# Calculate the linear regression model for Northern Hemisphere - Cloudiness vs. Latitude\n",
    "(slope, intercept, rvalue, pvalue, stderr)=linregress(northernhem['Lat'],northernhem['Cloudiness'])\n",
    "print(f'The r-squared value is {rvalue*rvalue}')\n",
    "\n",
    "regression = northernhem['Lat']*slope+intercept\n",
    "y_values = \"y = \" + str(round(slope,2)) + \"x + \" + str(round(intercept,2))\n",
    "\n",
    "# Plot the scatter\n",
    "plt.scatter(northernhem['Lat'],northernhem['Cloudiness'])\n",
    "#Plot the regression\n",
    "plt.plot(northernhem['Lat'],regression,color=\"red\")\n",
    "plt.annotate(y_values,(20,60),fontsize=15,color=\"red\")\n",
    "\n",
    "#Format\n",
    "plt.title(\"Northern Hemisphere - Cloudiness (%) vs. Latitude\")\n",
    "plt.xlabel('Latitude')\n",
    "plt.ylabel('Cloudiness')"
   ]
  },
  {
   "cell_type": "markdown",
   "metadata": {},
   "source": [
    "####  Southern Hemisphere - Cloudiness (%) vs. Latitude Linear Regression"
   ]
  },
  {
   "cell_type": "code",
   "execution_count": 19,
   "metadata": {},
   "outputs": [
    {
     "name": "stdout",
     "output_type": "stream",
     "text": [
      "The r-squared value is 0.05160878757207924\n"
     ]
    },
    {
     "data": {
      "text/plain": [
       "Text(0, 0.5, 'Cloudiness')"
      ]
     },
     "execution_count": 19,
     "metadata": {},
     "output_type": "execute_result"
    },
    {
     "data": {
      "image/png": "[encoded data removed]",
      "text/plain": [
       "<Figure size 432x288 with 1 Axes>"
      ]
     },
     "metadata": {
      "needs_background": "light"
     },
     "output_type": "display_data"
    }
   ],
   "source": [
    "# Calculate the linear regression model for Southern Hemisphere - Cloudiness vs. Latitude\n",
    "(slope, intercept, rvalue, pvalue, stderr)=linregress(southernhem['Lat'],southernhem['Cloudiness'])\n",
    "print(f'The r-squared value is {rvalue*rvalue}')\n",
    "\n",
    "regression = southernhem['Lat']*slope+intercept\n",
    "y_values = \"y = \" + str(round(slope,2)) + \"x + \" + str(round(intercept,2))\n",
    "\n",
    "# Plot the scatter\n",
    "plt.scatter(southernhem['Lat'],southernhem['Humidity'])\n",
    "#Plot the regression\n",
    "plt.plot(southernhem['Lat'],regression,color=\"red\")\n",
    "plt.annotate(y_values,(-55,15),fontsize=15,color=\"red\")\n",
    "\n",
    "#Format\n",
    "plt.title(\"Southern Hemisphere - Cloudiness (%) vs. Latitude\")\n",
    "plt.xlabel('Latitude')\n",
    "plt.ylabel('Cloudiness')"
   ]
  },
  {
   "cell_type": "markdown",
   "metadata": {},
   "source": [
    "####  Northern Hemisphere - Wind Speed (mph) vs. Latitude Linear Regression"
   ]
  },
  {
   "cell_type": "code",
   "execution_count": 20,
   "metadata": {},
   "outputs": [
    {
     "name": "stdout",
     "output_type": "stream",
     "text": [
      "The r-squared value is 0.031132993534348764\n"
     ]
    },
    {
     "data": {
      "text/plain": [
       "Text(0, 0.5, 'Wind Speed')"
      ]
     },
     "execution_count": 20,
     "metadata": {},
     "output_type": "execute_result"
    },
    {
     "data": {
      "image/png": "[encoded data removed]",
      "text/plain": [
       "<Figure size 432x288 with 1 Axes>"
      ]
     },
     "metadata": {
      "needs_background": "light"
     },
     "output_type": "display_data"
    }
   ],
   "source": [
    "# Calculate the linear regression model for Southern Hemisphere - Wind Speed vs. Latitude\n",
    "(slope, intercept, rvalue, pvalue, stderr)=linregress(northernhem['Lat'],northernhem['Wind Speed'])\n",
    "print(f'The r-squared value is {rvalue*rvalue}')\n",
    "\n",
    "regression = northernhem['Lat']*slope+intercept\n",
    "y_values = \"y = \" + str(round(slope,2)) + \"x + \" + str(round(intercept,2))\n",
    "\n",
    "# Plot the scatter\n",
    "plt.scatter(northernhem['Lat'],northernhem['Wind Speed'])\n",
    "#Plot the regression\n",
    "plt.plot(northernhem['Lat'],regression,color=\"red\")\n",
    "plt.annotate(y_values,(0,35),fontsize=15,color=\"red\")\n",
    "\n",
    "#Format\n",
    "plt.title(\"Northern Hemisphere - Wind Speed (mph) vs. Latitude\")\n",
    "plt.xlabel('Latitude')\n",
    "plt.ylabel('Wind Speed')"
   ]
  },
  {
   "cell_type": "markdown",
   "metadata": {},
   "source": [
    "####  Southern Hemisphere - Wind Speed (mph) vs. Latitude Linear Regression"
   ]
  },
  {
   "cell_type": "code",
   "execution_count": 21,
   "metadata": {},
   "outputs": [
    {
     "name": "stdout",
     "output_type": "stream",
     "text": [
      "The r-squared value is 0.05805692740979786\n"
     ]
    },
    {
     "data": {
      "text/plain": [
       "Text(0, 0.5, 'Wind Speed')"
      ]
     },
     "execution_count": 21,
     "metadata": {},
     "output_type": "execute_result"
    },
    {
     "data": {
      "image/png": "[encoded data removed]",
      "text/plain": [
       "<Figure size 432x288 with 1 Axes>"
      ]
     },
     "metadata": {
      "needs_background": "light"
     },
     "output_type": "display_data"
    }
   ],
   "source": [
    "# Calculate the linear regression model for Southern Hemisphere - Wind Speed vs. Latitude\n",
    "(slope, intercept, rvalue, pvalue, stderr)=linregress(southernhem['Lat'],southernhem['Wind Speed'])\n",
    "print(f'The r-squared value is {rvalue*rvalue}')\n",
    "\n",
    "regression = southernhem['Lat']*slope+intercept\n",
    "y_values = \"y = \" + str(round(slope,2)) + \"x + \" + str(round(intercept,2))\n",
    "\n",
    "# Plot the scatter\n",
    "plt.scatter(southernhem['Lat'],southernhem['Wind Speed'])\n",
    "#Plot the regression\n",
    "plt.plot(southernhem['Lat'],regression,color=\"red\")\n",
    "plt.annotate(y_values,(-25,25),fontsize=15,color=\"red\")\n",
    "\n",
    "#Format\n",
    "plt.title(\"Southern Hemisphere - Wind Speed (mph) vs. Latitude\")\n",
    "plt.xlabel('Latitude')\n",
    "plt.ylabel('Wind Speed')"
   ]
  }
 ],
 "metadata": {
  "anaconda-cloud": {},
  "kernel_info": {
   "name": "python3"
  },
  "kernelspec": {
   "display_name": "Python 3",
   "language": "python",
   "name": "python3"
  },
  "language_info": {
   "codemirror_mode": {
    "name": "ipython",
    "version": 3
   },
   "file_extension": ".py",
   "mimetype": "text/x-python",
   "name": "python",
   "nbconvert_exporter": "python",
   "pygments_lexer": "ipython3",
   "version": "3.7.4"
  },
  "latex_envs": {
   "LaTeX_envs_menu_present": true,
   "autoclose": false,
   "autocomplete": true,
   "bibliofile": "biblio.bib",
   "cite_by": "apalike",
   "current_citInitial": 1,
   "eqLabelWithNumbers": true,
   "eqNumInitial": 1,
   "hotkeys": {
    "equation": "Ctrl-E",
    "itemize": "Ctrl-I"
   },
   "labels_anchors": false,
   "latex_user_defs": false,
   "report_style_numbering": false,
   "user_envs_cfg": false
  },
  "nteract": {
   "version": "0.12.3"
  }
 },
 "nbformat": 4,
 "nbformat_minor": 2
}
